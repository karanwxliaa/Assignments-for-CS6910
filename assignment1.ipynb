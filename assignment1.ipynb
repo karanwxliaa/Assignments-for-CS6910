{
  "cells": [
    {
      "cell_type": "code",
      "execution_count": 21,
      "metadata": {},
      "outputs": [
        {
          "name": "stdout",
          "output_type": "stream",
          "text": [
            "^C\n"
          ]
        },
        {
          "name": "stdout",
          "output_type": "stream",
          "text": [
            "Requirement already satisfied: wandb==0.12.2 in c:\\users\\karan\\appdata\\local\\packages\\pythonsoftwarefoundation.python.3.10_qbz5n2kfra8p0\\localcache\\local-packages\\python310\\site-packages (0.12.2)\n",
            "Requirement already satisfied: sentry-sdk>=1.0.0 in c:\\users\\karan\\appdata\\local\\packages\\pythonsoftwarefoundation.python.3.10_qbz5n2kfra8p0\\localcache\\local-packages\\python310\\site-packages (from wandb==0.12.2) (1.14.0)\n",
            "Requirement already satisfied: protobuf>=3.12.0 in c:\\users\\karan\\appdata\\local\\packages\\pythonsoftwarefoundation.python.3.10_qbz5n2kfra8p0\\localcache\\local-packages\\python310\\site-packages (from wandb==0.12.2) (3.19.4)\n",
            "Requirement already satisfied: pathtools in c:\\users\\karan\\appdata\\local\\packages\\pythonsoftwarefoundation.python.3.10_qbz5n2kfra8p0\\localcache\\local-packages\\python310\\site-packages (from wandb==0.12.2) (0.1.2)\n",
            "Requirement already satisfied: PyYAML in c:\\users\\karan\\appdata\\local\\packages\\pythonsoftwarefoundation.python.3.10_qbz5n2kfra8p0\\localcache\\local-packages\\python310\\site-packages (from wandb==0.12.2) (6.0)\n",
            "Requirement already satisfied: requests<3,>=2.0.0 in c:\\users\\karan\\appdata\\local\\packages\\pythonsoftwarefoundation.python.3.10_qbz5n2kfra8p0\\localcache\\local-packages\\python310\\site-packages (from wandb==0.12.2) (2.28.0)\n",
            "Requirement already satisfied: docker-pycreds>=0.4.0 in c:\\users\\karan\\appdata\\local\\packages\\pythonsoftwarefoundation.python.3.10_qbz5n2kfra8p0\\localcache\\local-packages\\python310\\site-packages (from wandb==0.12.2) (0.4.0)\n",
            "Requirement already satisfied: promise<3,>=2.0 in c:\\users\\karan\\appdata\\local\\packages\\pythonsoftwarefoundation.python.3.10_qbz5n2kfra8p0\\localcache\\local-packages\\python310\\site-packages (from wandb==0.12.2) (2.3)\n",
            "Requirement already satisfied: yaspin>=1.0.0 in c:\\users\\karan\\appdata\\local\\packages\\pythonsoftwarefoundation.python.3.10_qbz5n2kfra8p0\\localcache\\local-packages\\python310\\site-packages (from wandb==0.12.2) (2.3.0)\n",
            "Requirement already satisfied: python-dateutil>=2.6.1 in c:\\users\\karan\\appdata\\local\\packages\\pythonsoftwarefoundation.python.3.10_qbz5n2kfra8p0\\localcache\\local-packages\\python310\\site-packages (from wandb==0.12.2) (2.8.2)\n",
            "Requirement already satisfied: six>=1.13.0 in c:\\users\\karan\\appdata\\local\\packages\\pythonsoftwarefoundation.python.3.10_qbz5n2kfra8p0\\localcache\\local-packages\\python310\\site-packages (from wandb==0.12.2) (1.16.0)\n",
            "Requirement already satisfied: configparser>=3.8.1 in c:\\users\\karan\\appdata\\local\\packages\\pythonsoftwarefoundation.python.3.10_qbz5n2kfra8p0\\localcache\\local-packages\\python310\\site-packages (from wandb==0.12.2) (5.3.0)\n",
            "Requirement already satisfied: Click!=8.0.0,>=7.0 in c:\\users\\karan\\appdata\\local\\packages\\pythonsoftwarefoundation.python.3.10_qbz5n2kfra8p0\\localcache\\local-packages\\python310\\site-packages (from wandb==0.12.2) (8.1.3)\n",
            "Requirement already satisfied: psutil>=5.0.0 in c:\\users\\karan\\appdata\\local\\packages\\pythonsoftwarefoundation.python.3.10_qbz5n2kfra8p0\\localcache\\local-packages\\python310\\site-packages (from wandb==0.12.2) (5.9.4)\n",
            "Requirement already satisfied: shortuuid>=0.5.0 in c:\\users\\karan\\appdata\\local\\packages\\pythonsoftwarefoundation.python.3.10_qbz5n2kfra8p0\\localcache\\local-packages\\python310\\site-packages (from wandb==0.12.2) (1.0.11)\n",
            "Requirement already satisfied: subprocess32>=3.5.3 in c:\\users\\karan\\appdata\\local\\packages\\pythonsoftwarefoundation.python.3.10_qbz5n2kfra8p0\\localcache\\local-packages\\python310\\site-packages (from wandb==0.12.2) (3.5.4)\n",
            "Requirement already satisfied: GitPython>=1.0.0 in c:\\users\\karan\\appdata\\local\\packages\\pythonsoftwarefoundation.python.3.10_qbz5n2kfra8p0\\localcache\\local-packages\\python310\\site-packages (from wandb==0.12.2) (3.1.29)\n",
            "Requirement already satisfied: colorama in c:\\users\\karan\\appdata\\local\\packages\\pythonsoftwarefoundation.python.3.10_qbz5n2kfra8p0\\localcache\\local-packages\\python310\\site-packages (from Click!=8.0.0,>=7.0->wandb==0.12.2) (0.4.4)\n",
            "Requirement already satisfied: gitdb<5,>=4.0.1 in c:\\users\\karan\\appdata\\local\\packages\\pythonsoftwarefoundation.python.3.10_qbz5n2kfra8p0\\localcache\\local-packages\\python310\\site-packages (from GitPython>=1.0.0->wandb==0.12.2) (4.0.9)\n",
            "Requirement already satisfied: idna<4,>=2.5 in c:\\users\\karan\\appdata\\local\\packages\\pythonsoftwarefoundation.python.3.10_qbz5n2kfra8p0\\localcache\\local-packages\\python310\\site-packages (from requests<3,>=2.0.0->wandb==0.12.2) (3.3)\n",
            "Requirement already satisfied: certifi>=2017.4.17 in c:\\users\\karan\\appdata\\local\\packages\\pythonsoftwarefoundation.python.3.10_qbz5n2kfra8p0\\localcache\\local-packages\\python310\\site-packages (from requests<3,>=2.0.0->wandb==0.12.2) (2019.11.28)\n",
            "Requirement already satisfied: urllib3<1.27,>=1.21.1 in c:\\users\\karan\\appdata\\local\\packages\\pythonsoftwarefoundation.python.3.10_qbz5n2kfra8p0\\localcache\\local-packages\\python310\\site-packages (from requests<3,>=2.0.0->wandb==0.12.2) (1.26.14)\n",
            "Requirement already satisfied: charset-normalizer~=2.0.0 in c:\\users\\karan\\appdata\\local\\packages\\pythonsoftwarefoundation.python.3.10_qbz5n2kfra8p0\\localcache\\local-packages\\python310\\site-packages (from requests<3,>=2.0.0->wandb==0.12.2) (2.0.12)\n",
            "Requirement already satisfied: termcolor<3.0,>=2.2 in c:\\users\\karan\\appdata\\local\\packages\\pythonsoftwarefoundation.python.3.10_qbz5n2kfra8p0\\localcache\\local-packages\\python310\\site-packages (from yaspin>=1.0.0->wandb==0.12.2) (2.2.0)\n",
            "Requirement already satisfied: smmap<6,>=3.0.1 in c:\\users\\karan\\appdata\\local\\packages\\pythonsoftwarefoundation.python.3.10_qbz5n2kfra8p0\\localcache\\local-packages\\python310\\site-packages (from gitdb<5,>=4.0.1->GitPython>=1.0.0->wandb==0.12.2) (5.0.0)\n"
          ]
        }
      ],
      "source": [
        "!pip install wandb==0.12.2"
      ]
    },
    {
      "cell_type": "code",
      "execution_count": 22,
      "metadata": {
        "id": "k1_uMXLJGpom"
      },
      "outputs": [],
      "source": [
        "\n",
        "import numpy as np\n",
        "from keras.datasets import fashion_mnist\n",
        "from keras.datasets import mnist\n",
        "from  matplotlib import pyplot as plt\n",
        "import time\n",
        "import math\n",
        "import wandb\n",
        "import copy \n",
        "\n",
        "#loading data from the fashion_mnist  dataset\n",
        "((xtrain, ytrain), (xtest, ytest)) = fashion_mnist.load_data()\n",
        "items=[\"T-shirt/top\", \"Trouser\",\"Pullover\", \"Dress\", \"Coat\", \"Sandal\", \"Shirt\", \"Sneaker\", \"Bag\",\"Ankle boot\"]\n",
        "ftrx=np.zeros((60000,784))\n",
        "ftry=np.zeros((60000,10))\n",
        "ftex=np.zeros((10000,784))\n",
        "ftey=np.zeros((10000,10))\n",
        "for i in range(len(xtrain)):\n",
        "  ftrx[i]=xtrain[i].flatten()\n",
        "  ftrx[i]=ftrx[i]/256\n",
        "  ftry[i][ytrain[i]]=1\n",
        "for i in range(len(xtest)):\n",
        "  ftex[i]=xtest[i].flatten()\n",
        "  ftex[i]=ftex[i]/256\n",
        "  ftey[i][ytest[i]]=1\n",
        "\n",
        "\n",
        "\n"
      ]
    },
    {
      "cell_type": "code",
      "execution_count": 23,
      "metadata": {},
      "outputs": [
        {
          "data": {
            "text/plain": [
              "True"
            ]
          },
          "execution_count": 23,
          "metadata": {},
          "output_type": "execute_result"
        }
      ],
      "source": [
        "wandb.login()"
      ]
    },
    {
      "attachments": {},
      "cell_type": "markdown",
      "metadata": {
        "id": "3Gwe6VwLIUsa"
      },
      "source": [
        "# Q1 \n",
        "```\n",
        "Printing the img for each class\n",
        "```"
      ]
    },
    {
      "cell_type": "code",
      "execution_count": 24,
      "metadata": {
        "id": "IsZ09i4NIUPO"
      },
      "outputs": [
        {
          "name": "stderr",
          "output_type": "stream",
          "text": [
            "\u001b[34m\u001b[1mwandb\u001b[0m: \u001b[33mWARNING\u001b[0m Ignored wandb.init() arg project when running a sweep\n",
            "\u001b[34m\u001b[1mwandb\u001b[0m: wandb version 0.13.9 is available!  To upgrade, please run:\n",
            "\u001b[34m\u001b[1mwandb\u001b[0m:  $ pip install wandb --upgrade\n"
          ]
        },
        {
          "data": {
            "text/html": [
              "\n",
              "                Tracking run with wandb version 0.12.2<br/>\n",
              "                Syncing run <strong style=\"color:#cdcd00\">e_15_hls_128_numhl_3_opt_adam_bs_32_init_Xaviuor_ac_tanh_loss_mse_learning_rate_0.0095_wdecay_5e-05</strong> to <a href=\"https://wandb.ai\" target=\"_blank\">Weights & Biases</a> <a href=\"https://docs.wandb.com/integrations/jupyter.html\" target=\"_blank\">(Documentation)</a>.<br/>\n",
              "                Project page: <a href=\"https://wandb.ai/karanwxlia/MSE%20VS%20CE\" target=\"_blank\">https://wandb.ai/karanwxlia/MSE%20VS%20CE</a><br/>\n",
              "                Sweep page: <a href=\"https://wandb.ai/karanwxlia/MSE%20VS%20CE/sweeps/slbvrmeu\" target=\"_blank\">https://wandb.ai/karanwxlia/MSE%20VS%20CE/sweeps/slbvrmeu</a><br/>\n",
              "Run page: <a href=\"https://wandb.ai/karanwxlia/MSE%20VS%20CE/runs/if19842j\" target=\"_blank\">https://wandb.ai/karanwxlia/MSE%20VS%20CE/runs/if19842j</a><br/>\n",
              "                Run data is saved locally in <code>c:\\Users\\KARAN\\Desktop\\Assignmets for cs6910\\wandb\\run-20230130_125237-if19842j</code><br/><br/>\n",
              "            "
            ],
            "text/plain": [
              "<IPython.core.display.HTML object>"
            ]
          },
          "metadata": {},
          "output_type": "display_data"
        },
        {
          "data": {
            "text/html": [
              "<br/>Waiting for W&B process to finish, PID 26772<br/>Program ended successfully."
            ],
            "text/plain": [
              "<IPython.core.display.HTML object>"
            ]
          },
          "metadata": {},
          "output_type": "display_data"
        },
        {
          "data": {
            "text/html": [
              "Find user logs for this run at: <code>c:\\Users\\KARAN\\Desktop\\Assignmets for cs6910\\wandb\\run-20230130_125237-if19842j\\logs\\debug.log</code>"
            ],
            "text/plain": [
              "<IPython.core.display.HTML object>"
            ]
          },
          "metadata": {},
          "output_type": "display_data"
        },
        {
          "data": {
            "text/html": [
              "Find internal logs for this run at: <code>c:\\Users\\KARAN\\Desktop\\Assignmets for cs6910\\wandb\\run-20230130_125237-if19842j\\logs\\debug-internal.log</code>"
            ],
            "text/plain": [
              "<IPython.core.display.HTML object>"
            ]
          },
          "metadata": {},
          "output_type": "display_data"
        },
        {
          "data": {
            "text/html": [
              "Synced 4 W&B file(s), 10 media file(s), 0 artifact file(s) and 0 other file(s)"
            ],
            "text/plain": [
              "<IPython.core.display.HTML object>"
            ]
          },
          "metadata": {},
          "output_type": "display_data"
        },
        {
          "data": {
            "text/html": [
              "\n",
              "                    <br/>Synced <strong style=\"color:#cdcd00\">e_15_hls_128_numhl_3_opt_adam_bs_32_init_Xaviuor_ac_tanh_loss_mse_learning_rate_0.0095_wdecay_5e-05</strong>: <a href=\"https://wandb.ai/karanwxlia/MSE%20VS%20CE/runs/if19842j\" target=\"_blank\">https://wandb.ai/karanwxlia/MSE%20VS%20CE/runs/if19842j</a><br/>\n",
              "                "
            ],
            "text/plain": [
              "<IPython.core.display.HTML object>"
            ]
          },
          "metadata": {},
          "output_type": "display_data"
        },
        {
          "data": {
            "image/png": "[encoded data removed]",
            "text/plain": [
              "<Figure size 432x288 with 10 Axes>"
            ]
          },
          "metadata": {
            "needs_background": "light"
          },
          "output_type": "display_data"
        }
      ],
      "source": [
        "wandb.init(project=\"A1\")\n",
        "img=[]\n",
        "for i in range(10):\n",
        "  for j in range(len(ytrain)):\n",
        "    if ytrain[j]==i:\n",
        "      img.append(xtrain[j])\n",
        "      break\n",
        "\n",
        "#printing the images \n",
        "for i in range(len(img)):\n",
        "  plt.subplot(2,5,i+1)\n",
        "  plt.imshow(img[i])\n",
        "  plt.title(items[i])\n",
        "\n",
        "wandb.run.name=\"Q1\"\n",
        "wandb.log({\"Images\":[wandb.Image(img,caption=item) for img,item in zip(img,items)]})\n",
        "wandb.finish()"
      ]
    },
    {
      "attachments": {},
      "cell_type": "markdown",
      "metadata": {
        "id": "GjbXSKsXQfI1"
      },
      "source": [
        "# Q2"
      ]
    },
    {
      "attachments": {},
      "cell_type": "markdown",
      "metadata": {
        "id": "Bhtc8MOvIqIw"
      },
      "source": [
        "\n",
        "FF Neural network"
      ]
    },
    {
      "cell_type": "code",
      "execution_count": 25,
      "metadata": {
        "id": "yXk-Wy_7J9yw"
      },
      "outputs": [],
      "source": [
        "#sigmoid function \n",
        "def sigmoid(x):\n",
        "  return np.where(x>=0, 1/(1+np.exp(-x)), np.exp(x)/(1+np.exp(x)))\n",
        "#grad sigmoid\n",
        "def grad_sigmoid(z):\n",
        "  return z*(1-z)\n",
        "#softmax \n",
        "def softmax(s):\n",
        "  mx=np.max(s)\n",
        "  s-=mx\n",
        "  out=(np.exp(s)+1e-9)/np.sum(np.exp(s)+1e-9)\n",
        "  return out\n",
        "#grad softmax\n",
        "def grad_softmax(ya,yb):\n",
        "  return ya-yb\n",
        "#relu \n",
        "def Relu(x):\n",
        "    return np.maximum(0, x)\n",
        "#grad relu\n",
        "def grad_Relu(x):\n",
        "    return [1 if xi>0 else 0 for xi in x]\n",
        "#tanH func\n",
        "def Tanh(x):\n",
        "  a= 2*np.where(x>=0, 1/(1+np.exp(-2*x)), np.exp(2*x)/(1+np.exp(2*x)))\n",
        "  return a-1\n",
        "#grad tanH\n",
        "def grad_Tanh(x):\n",
        "    return 1-Tanh(x)**2\n",
        "\n",
        "\n",
        "def initgrads(n,N_units):\n",
        "\n",
        "  dh,da,dw,db=[],[],[],[]\n",
        "  dw.append(np.zeros((N_units[0],784)))\n",
        "  db.append(np.zeros(N_units[0]))\n",
        "  da.append(np.zeros(N_units[0]))\n",
        "  dh.append(np.zeros(N_units[0]))\n",
        "\n",
        "  for i in range(1,n):\n",
        "    dw.append(np.zeros((N_units[i],N_units[i-1])))\n",
        "    db.append(np.zeros(N_units[i]))\n",
        "    da.append(np.zeros(N_units[i]))\n",
        "    dh.append(np.zeros(N_units[i]))\n",
        "  dw.append(np.zeros((10,N_units[-1])))\n",
        "  db.append(np.zeros(10))\n",
        "  da.append(np.zeros(10))\n",
        "  dh.append(np.zeros(10))\n",
        "  return dw,db,da,dh\n",
        "\n",
        "def InitParams(x,init):\n",
        "    w,b=[],[]  #list for the weights and biases\n",
        "    \n",
        "    if(init=='random'):\n",
        "      w.append((np.random.randn(x[0],784)))\n",
        "      b.append((np.random.randn(x[0])))\n",
        "      l=len(x)-1\n",
        "      for i in range(l):\n",
        "          w.append(0.1*(np.random.randn(x[i+1],x[i])))\n",
        "          b.append(0.1*(np.random.randn(x[i+1])))\n",
        "      w.append(0.1*(np.random.randn(10,x[-1])))\n",
        "      b.append(0.1*(np.random.randn(10)))\n",
        "    else:\n",
        "      w.append(np.random.randn(x[0], 784)*np.sqrt(2./(784)))\n",
        "      b.append(np.zeros(x[0]))\n",
        "      l=len(x)-1\n",
        "      for i in range(l):\n",
        "          w.append(np.random.randn(x[i+1], x[i])*np.sqrt(2./(x[i])))\n",
        "          b.append(np.zeros(x[i+1]))\n",
        "      w.append(np.sqrt(2./(x[-1]))*(np.random.randn(10,x[-1])))\n",
        "      b.append((np.zeros(10)))\n",
        "\n",
        "    return w,b\n",
        "\n",
        "\n",
        "def sum_weights(w):\n",
        "  sum=0\n",
        "  for i in range(len(w)):\n",
        "    sum=sum+np.sum(w[i])\n",
        "  return sum\n",
        "\n",
        "\n",
        "# Loss & Acc\n",
        "def val_acc_loss(W,B,act_fn,ls_fn,wd):\n",
        "  cost,count=0,0\n",
        "  if (ls_fn=='ce'):\n",
        "    for i in range(len(ftrx[54000:])):\n",
        "      ypr,_,_=Feed_Frwd_Nw1(ftrx[i],W,B,act_fn,ls_fn)\n",
        "      cost += (np.sum(np.multiply(ftry[i],np.log(ypr))) + wd/2*sum_weights(W) )\n",
        "      if (np.argmax(ypr)==np.argmax(ftry[i])):\n",
        "        count+=1\n",
        "    return -cost/6000, count/6000\n",
        "  #mean sq err\n",
        "  elif (ls_fn=='mse'):\n",
        "    for i in range(len(ftrx[54000:])):\n",
        "      ypr,_,_=Feed_Frwd_Nw1(ftrx[i],W,B,act_fn,ls_fn)\n",
        "      cost+=(0.5*np.sum((ftry[i]- ypr)**2) + wd/2*sum_weights(W) )\n",
        "      if (np.argmax(ypr) ==np.argmax(ftry[i])):\n",
        "        count+=1\n",
        "    return cost/6000, count/6000\n",
        "\n",
        "def train_acc_loss(W,B,act_fn,ls_fn,wd):\n",
        "  cost,count=0,0\n",
        "  if (ls_fn=='ce'):\n",
        "    for i in range(len(ftrx[:54000])):\n",
        "      ypr,_,_=Feed_Frwd_Nw1(ftrx[i],W,B,act_fn,ls_fn)\n",
        "      cost += (np.sum(np.multiply(ftry[i],np.log(ypr))) + wd/2*sum_weights(W) )\n",
        "      if (np.argmax(ypr) ==np.argmax(ftry[i])):\n",
        "        count+=1\n",
        "    return -cost/54000, count/54000\n",
        "  #mean sq err\n",
        "  elif (ls_fn=='mse'):\n",
        "    for i in range(len(ftrx[:54000])):\n",
        "      ypr,_,_=Feed_Frwd_Nw1(ftrx[i],W,B,act_fn,ls_fn)\n",
        "      cost+=(0.5*np.sum((ftry[i]- ypr)**2) + wd/2*sum_weights(W) )\n",
        "      if (np.argmax(ypr) ==np.argmax(ftry[i])):\n",
        "        count+=1\n",
        "    return cost/54000, count/54000\n",
        "\n",
        "\n",
        "\n",
        "\n",
        "def test_acc(W,B,act_fn,ls_fn):\n",
        "  count=0\n",
        "  predict=[]\n",
        "  matrix=np.zeros((10,10))\n",
        "  for i in range(len(ftex)):\n",
        "    ypr,_,_=Feed_Frwd_Nw1(ftex[i],W,B,act_fn,ls_fn)\n",
        "    if (np.argmax(ypr) == ytest[i]):\n",
        "      count+=1\n",
        "    predict.append(np.argmax(ypr))\n",
        "    matrix[ytest[i]][np.argmax(ypr)]+=1\n",
        "    \n",
        "  lables={}\n",
        "  for i in range(len(items)):\n",
        "    lables[i]=items[i]\n",
        "  wandb.log({\"Confusion Matrix\": wandb.plot.confusion_matrix(probs=None, y_true=ytest, preds=predict,class_names=items)})\n",
        "  wandb.log({\"Confusion Matrix 2\": wandb.plots.HeatMap(items, items, matrix),\"Accuracy\":count/len(ytest)})\n",
        "  return count/len(ytest)\n",
        "\n",
        "\n",
        "def Feed_Frwd_Nw1(xTr,w,b,act_fn,loss):\n",
        "  a_i,h_i=[],[]\n",
        "  a_i.append(np.dot(w[0],xTr)+b[0])  \n",
        "     \n",
        "  if (act_fn=='sig'):\n",
        "    h_i.append(sigmoid(a_i[0]))\n",
        "  elif (act_fn=='relu'):\n",
        "    h_i.append(Relu(a_i[0]))\n",
        "  elif (act_fn=='tanh'):\n",
        "    h_i.append(Tanh(a_i[0]))\n",
        "\n",
        "  for i in range(1,len(w)-1):\n",
        "    a_i.append((np.dot(w[i],h_i[i-1])+b[i]))\n",
        "    if (act_fn=='sig'):\n",
        "      h_i.append(sigmoid(a_i[i]))\n",
        "    elif (act_fn=='relu'):\n",
        "      h_i.append(Relu(a_i[i]))\n",
        "    elif (act_fn=='tanh'):\n",
        "      h_i.append(Tanh(a_i[i]))\n",
        "    \n",
        "  a_i.append(np.dot(w[-1],h_i[-1])+b[-1])\n",
        "  h_i.append(softmax(a_i[-1])) \n",
        "  yp=h_i[-1]\n",
        "  \n",
        "  return yp,a_i,h_i\n"
      ]
    },
    {
      "cell_type": "markdown",
      "metadata": {
        "id": "qYVRBxyLK15S"
      },
      "source": [
        "**Test Run for Feedforward neural network**"
      ]
    },
    {
      "cell_type": "code",
      "execution_count": 26,
      "metadata": {
        "id": "gCTRPfT6KQVO"
      },
      "outputs": [
        {
          "data": {
            "text/plain": [
              "array([0.08489705, 0.23344403, 0.074161  , 0.13175948, 0.07289519,\n",
              "       0.05405776, 0.02927408, 0.23570466, 0.03413393, 0.04967282])"
            ]
          },
          "execution_count": 26,
          "metadata": {},
          "output_type": "execute_result"
        }
      ],
      "source": [
        "n_each_layer=[128]\n",
        "N=len(n_each_layer)\n",
        "W,B=InitParams(n_each_layer,'xaviour')\n",
        "ypr,ai,hi=Feed_Frwd_Nw1(ftrx[2],W,B,'sig','ce')\n",
        "ypr"
      ]
    },
    {
      "attachments": {},
      "cell_type": "markdown",
      "metadata": {
        "id": "O75mPCvEKuzp"
      },
      "source": [
        "# Q3"
      ]
    },
    {
      "attachments": {},
      "cell_type": "markdown",
      "metadata": {
        "id": "3uiKmBPlKZe2"
      },
      "source": [
        "**Backpropagation with optimisation functions**\n",
        "\n",
        "\n",
        "\n",
        "\n",
        "sgd,momentum based gradient descent,nesterov accelerated gradient descent,rmsprop,adam,nadam\n",
        "\n",
        "\n"
      ]
    },
    {
      "cell_type": "code",
      "execution_count": 36,
      "metadata": {
        "id": "SFATfvg_KZGH"
      },
      "outputs": [],
      "source": [
        "def Back_Prop(ip,ypr,ty,a_i,h_i,W,B,N,nhl,act_fn,loss):\n",
        "  k=len(ypr)\n",
        "  dw,db,da,dh=initgrads(N,nhl)\n",
        "\n",
        "  if (loss==\"mse\"):\n",
        "    dh[-1]=(ypr-ty)\n",
        "    da[-1]=dh[-1]*(ypr-ypr**2)\n",
        "  elif (loss==\"ce\"):\n",
        "    dh[-1]=[-(t/ypr) if t==1 else 0 for t in ty ]\n",
        "    da[-1]=ypr-ty\n",
        "\n",
        "  db[-1]=da[-1] \n",
        "  dw[-1]=np.dot((da[-1][:,np.newaxis]),(h_i[-2][:,np.newaxis]).T)\n",
        " \n",
        "  for i in range(N-1,-1,-1):\n",
        "    dh[i]=np.squeeze(np.dot(W[i+1].T,da[i+1]))\n",
        "    #sigmoid\n",
        "    if (act_fn=='sig'):\n",
        "      da[i]=dh[i]*grad_sigmoid(h_i[i])\n",
        "    #tanh\n",
        "    elif (act_fn=='tanh'):\n",
        "      da[i]=dh[i]*grad_Tanh(a_i[i])\n",
        "    #relu\n",
        "    elif (act_fn=='relu'):\n",
        "      da[i]=dh[i]*grad_Relu(a_i[i])\n",
        "    db[i]=np.copy(da[i])\n",
        "\n",
        "    if (i==0):\n",
        "      dw[i]=np.dot(da[i][:,np.newaxis],ip[:,np.newaxis].T)\n",
        "    else:\n",
        "      dw[i]=np.dot(da[i][:,np.newaxis],h_i[i-1][:,np.newaxis].T)\n",
        "\n",
        "  return dw,db\n",
        "\n",
        "\n",
        "\n",
        "def gradDecent(ftrx,ftry,init,wd,eta,N,nhl,act_fn,Ls_fun,epochs,batchsize):\n",
        "  W,B=InitParams(nhl,init)\n",
        "  e=0\n",
        "  while(epochs>0):\n",
        "    e=e+1\n",
        "    epochs-=1\n",
        "    start = time.time()\n",
        "\n",
        "    uw,ub,_,_=initgrads(N,nhl)\n",
        "    for i in range(len(ftrx[:54000])):\n",
        "      pred_y,ai,hi=Feed_Frwd_Nw1(ftrx[i],W,B,act_fn,Ls_fun)\n",
        "      gw,gb=Back_Prop(ftrx[i],pred_y,ftry[i],ai,hi,W,B,N,nhl,act_fn,Ls_fun)\n",
        "\n",
        "      for j in range(len(gw)):\n",
        "        uw[j]=np.add(uw[j],gw[j]+wd*W[j])\n",
        "        ub[j]=np.add(ub[j],gb[j]+wd*B[j])\n",
        "\n",
        "      if((i+1)%batchsize==0 or i==53999):\n",
        "        for k in range(len(gw)):\n",
        "          W[k]=np.subtract(W[k],eta*uw[k]/batchsize)\n",
        "          B[k]=np.subtract(B[k],eta*ub[k]/batchsize)\n",
        "          uw[k]=np.subtract(uw[k],uw[k])\n",
        "          ub[k]=np.subtract(ub[k],ub[k]) \n",
        "\n",
        "    end = time.time() \n",
        "\n",
        "    trloss,tracc=train_acc_loss(W,B,act_fn,Ls_fun,wd)\n",
        "    vloss,vacc=val_acc_loss(W,B,act_fn,Ls_fun,wd)\n",
        "    wandb.log({\"epoch\":e,\"Train_loss\":trloss,\"Train_acc\":tracc,\"val_loss\":vloss,\"val_Accuracy\":vacc})\n",
        "\n",
        "  test_acc(W,B,act_fn,Ls_fun)  \n",
        "\n",
        "  return hi,W,B\n",
        "\n",
        "\n",
        "\n",
        "\n",
        "def Momentum(ftrx,ftry,init,batchsize,gamma,wd,eta,N,nhl,act_fn,Ls_fun,epochs=1):\n",
        "  W,B=InitParams(nhl,init)\n",
        "  vw,vb,_,_=initgrads(N,nhl)\n",
        "  pw,pb,_,_=initgrads(N,nhl)\n",
        "  e=0\n",
        "\n",
        "  while(epochs>0):\n",
        "    e+=1\n",
        "    epochs-=1\n",
        "    start = time.time()\n",
        "\n",
        "    uw,ub,_,_=initgrads(N,nhl)\n",
        "    for i in range(len(ftrx[:54000])):\n",
        "      pred_y,ai,hi=Feed_Frwd_Nw1(ftrx[i],W,B,act_fn,Ls_fun)\n",
        "      gw,gb=Back_Prop(ftrx[i],pred_y,ftry[i],ai,hi,W,B,N,nhl,act_fn,Ls_fun)\n",
        "\n",
        "      for j in range(len(gw)):\n",
        "        uw[j]=np.add(uw[j],gw[j]+wd*W[j])\n",
        "        ub[j]=np.add(ub[j],gb[j]+wd*B[j])\n",
        "\n",
        "      if((i+1)%batchsize==0 or i==53999):\n",
        "        for k in range(len(gw)):\n",
        "          \n",
        "          vw[k]=np.add(gamma*pw[k],eta*uw[k]/batchsize)\n",
        "          vb[k]=np.add(gamma*pb[k],eta*ub[k]/batchsize)\n",
        "\n",
        "          W[k]=np.subtract(W[k],vw[k])\n",
        "          B[k]=np.subtract(B[k],vb[k])\n",
        "\n",
        "          pw[k]=copy.deepcopy(vw[k])\n",
        "          pb[k]=copy.deepcopy(vb[k])\n",
        "\n",
        "          uw[k]=np.subtract(uw[k],uw[k])\n",
        "          ub[k]=np.subtract(ub[k],ub[k]) \n",
        "            \n",
        "    end = time.time() \n",
        "\n",
        "    trloss,tracc=train_acc_loss(W,B,act_fn,Ls_fun,wd)\n",
        "    vloss,vacc=val_acc_loss(W,B,act_fn,Ls_fun,wd)\n",
        "    wandb.log({\"epoch\":e,\"Train_loss\":trloss,\"Train_acc\":tracc,\"val_loss\":vloss,\"val_Accuracy\":vacc})\n",
        "  \n",
        "  test_acc(W,B,act_fn,Ls_fun)  \n",
        "\n",
        "  return hi,W,B\n",
        "\n",
        "\n",
        "def Nesterov(ftrx,ftry,init,batchsize,gamma,wd,eta,N,nhl,act_fn,Ls_fun,epochs=1):\n",
        "  W,B=InitParams(nhl,init)\n",
        "  vw,vb,_,_=initgrads(N,nhl)\n",
        "  pw,pb,_,_=initgrads(N,nhl)\n",
        "  w,b=copy.deepcopy(W),copy.deepcopy(B)\n",
        "  e=0\n",
        "\n",
        "  while(epochs>0):\n",
        "    e+=1\n",
        "    epochs-=1 \n",
        "    start = time.time()\n",
        "\n",
        "    uw,ub,_,_=initgrads(N,nhl)\n",
        "    for i in range(len(ftrx)):\n",
        "      pred_y,ai,hi=Feed_Frwd_Nw1(ftrx[i],W,B,act_fn,Ls_fun) \n",
        "      gw,gb=Back_Prop(ftrx[i],pred_y,ftry[i],ai,hi,w,b,N,nhl,act_fn,Ls_fun)\n",
        "\n",
        "      for j in range(len(gw)):\n",
        "        uw[j]=np.add(uw[j],gw[j]+wd*W[j])\n",
        "        ub[j]=np.add(ub[j],gb[j]+wd*B[j])\n",
        "\n",
        "      if((i+1)%batchsize==0 or i==53999):\n",
        "        for k in range(len(gw)):\n",
        "          vw[k]=np.add(gamma*pw[k],eta*uw[k]/batchsize)\n",
        "          vb[k]=np.add(gamma*pb[k],eta*ub[k]/batchsize)\n",
        "\n",
        "          W[k]=np.subtract(W[k],vw[k])\n",
        "          B[k]=np.subtract(B[k],vb[k])\n",
        "          \n",
        "          pw[k]=copy.deepcopy(vw[k])\n",
        "          pb[k]=copy.deepcopy(vb[k])\n",
        "          \n",
        "          uw[k]=np.subtract(uw[k],uw[k])\n",
        "          ub[k]=np.subtract(ub[k],ub[k])\n",
        "        \n",
        "        for k in range(len(gw)):\n",
        "          w[k]=np.subtract(W[k],gamma*pw[k])\n",
        "          b[k]=np.subtract(B[k],gamma*pb[k])    \n",
        "    \n",
        "    end = time.time() \n",
        "\n",
        "    trloss,tracc=train_acc_loss(W,B,act_fn,Ls_fun,wd)\n",
        "    vloss,vacc=val_acc_loss(W,B,act_fn,Ls_fun,wd)\n",
        "    wandb.log({\"epoch\":e,\"Train_loss\":trloss,\"Train_acc\":tracc,\"val_loss\":vloss,\"val_Accuracy\":vacc})\n",
        "\n",
        "  test_acc(W,B,act_fn,Ls_fun)  \n",
        "\n",
        "  return hi,W,B\n",
        "\n",
        "def rmsprop(ftrx,ftry,init,batchsize,eps,beta,wd,eta,N,nhl,act_fn,Ls_fun,epochs=1):\n",
        "  W,B=InitParams(nhl,init)\n",
        "  vw,vb,_,_=initgrads(N,nhl)\n",
        "  e=0\n",
        "  while(epochs>0):\n",
        "    e+=1\n",
        "    epochs-=1\n",
        "    start = time.time()\n",
        "\n",
        "    uw,ub,_,_=initgrads(N,nhl)\n",
        "    for i in range(len(ftrx[:54000])):\n",
        "      pred_y,ai,hi=Feed_Frwd_Nw1(ftrx[i],W,B,act_fn,Ls_fun)\n",
        "      gw,gb=Back_Prop(ftrx[i],pred_y,ftry[i],ai,hi,W,B,N,nhl,act_fn,Ls_fun)\n",
        "\n",
        "      for j in range(len(gw)):\n",
        "        uw[j]=np.add(uw[j],gw[j]+wd*W[j])\n",
        "        ub[j]=np.add(ub[j],gb[j]+wd*B[j])\n",
        "\n",
        "      if((i+1)%batchsize==0 or i==53999):\n",
        "        for k in range(len(gw)):\n",
        "          vw[k]=np.add(beta*vw[k],(1-beta)*uw[k]**2)\n",
        "          vb[k]=np.add(beta*vb[k],(1-beta)*ub[k]**2)\n",
        "\n",
        "          W[k]=np.subtract(W[k],((eta/batchsize)/np.sqrt(vw[k]+eps))*uw[k])\n",
        "          B[k]=np.subtract(B[k],((eta/batchsize)/np.sqrt(vb[k]+eps))*ub[k])\n",
        "\n",
        "          uw[k]=np.subtract(uw[k],uw[k])\n",
        "          ub[k]=np.subtract(ub[k],ub[k]) \n",
        "            \n",
        "    end = time.time() \n",
        "\n",
        "    trloss,tracc=train_acc_loss(W,B,act_fn,Ls_fun,wd)\n",
        "    vloss,vacc=val_acc_loss(W,B,act_fn,Ls_fun,wd)\n",
        "    wandb.log({\"epoch\":e,\"Train_loss\":trloss,\"Train_acc\":tracc,\"val_loss\":vloss,\"val_Accuracy\":vacc})\n",
        "\n",
        "  test_acc(W,B,act_fn,Ls_fun)  \n",
        "\n",
        "  return hi,W,B\n",
        "\n",
        "\n",
        "\n",
        "\n",
        "def Adam(ftrx,ftry,init,batchsize,eps,beta1,beta2,wd,eta,N,nhl,act_fn,Ls_fun,epochs=1):\n",
        "  W,B=InitParams(nhl,init)\n",
        "  vw,vb,_,_=initgrads(N,nhl)\n",
        "  mw,mb,_,_=initgrads(N,nhl)\n",
        "  beta1=0.9\n",
        "  e=0\n",
        "  t=1\n",
        "  while(epochs>0):\n",
        "    e+=1\n",
        "    epochs-=1\n",
        "    start = time.time()\n",
        "\n",
        "    uw,ub,_,_=initgrads(N,nhl)\n",
        "    for i in range(len(ftrx[:54000])):\n",
        "      pred_y,ai,hi=Feed_Frwd_Nw1(ftrx[i],W,B,act_fn,Ls_fun)\n",
        "      gw,gb=Back_Prop(ftrx[i],pred_y,ftry[i],ai,hi,W,B,N,nhl,act_fn,Ls_fun)\n",
        "\n",
        "      for j in range(len(gw)):\n",
        "        uw[j]=np.add(uw[j],gw[j]+wd*W[j])\n",
        "        ub[j]=np.add(ub[j],gb[j]+wd*B[j])\n",
        "\n",
        "      if((i+1)%batchsize==0 or i==53999):\n",
        "        t+=1\n",
        "        for k in range(len(gw)):\n",
        "          vw[k]=np.add(beta2*vw[k],(1-beta2)*uw[k]**2)\n",
        "          vb[k]=np.add(beta2*vb[k],(1-beta2)*ub[k]**2)\n",
        "\n",
        "          mw[k]=np.add(beta1*mw[k],(1-beta1)*uw[k])\n",
        "          mb[k]=np.add(beta1*mb[k],(1-beta1)*ub[k])\n",
        "\n",
        "          mw[k]/=(1-np.power(beta1,t,dtype=np.float64))\n",
        "          mb[k]/=(1-np.power(beta1,t,dtype=np.float64))\n",
        "\n",
        "          vw[k]=np.divide(vw[k],(1-np.power(beta2,t,dtype=np.float64)))\n",
        "          vb[k]=np.divide(vb[k],(1-np.power(beta2,t,dtype=np.float64)))\n",
        "\n",
        "          W[k]=np.subtract(W[k],((eta/batchsize)/np.sqrt(vw[k]+eps))*mw[k])\n",
        "          B[k]=np.subtract(B[k],((eta/batchsize)/np.sqrt(vb[k]+eps))*mb[k])\n",
        "\n",
        "          uw[k]=np.subtract(uw[k],uw[k])\n",
        "          ub[k]=np.subtract(ub[k],ub[k]) \n",
        "            \n",
        "    end = time.time() \n",
        "\n",
        "    trloss,tracc=train_acc_loss(W,B,act_fn,Ls_fun,wd)\n",
        "    vloss,vacc=val_acc_loss(W,B,act_fn,Ls_fun,wd)\n",
        "    wandb.log({\"epoch\":e,\"Train_loss\":trloss,\"Train_acc\":tracc,\"val_loss\":vloss,\"val_Accuracy\":vacc})\n",
        "\n",
        "  test_acc(W,B,act_fn,Ls_fun)  \n",
        "  \n",
        "  return hi,W,B\n",
        "\n",
        "\n",
        "\n",
        "\n",
        "\n",
        "\n",
        "\n",
        "\n",
        "def NAdam(ftrx,ftry,init,batchsize,eps,beta1,beta2,wd,eta,N,nhl,act_fn,Ls_fun,epochs=1):\n",
        "  W,B=InitParams(nhl,init)\n",
        "  vw,vb,_,_=initgrads(N,nhl)\n",
        "  mw,mb,_,_=initgrads(N,nhl)\n",
        "  beta1=0.9\n",
        "  e=0\n",
        "  t=1\n",
        "  while(epochs>0):\n",
        "    e+=1\n",
        "    epochs-=1\n",
        "    start = time.time()\n",
        "\n",
        "    uw,ub,_,_=initgrads(N,nhl)\n",
        "    for i in range(len(ftrx[:54000])):\n",
        "      pred_y,ai,hi=Feed_Frwd_Nw1(ftrx[i],W,B,act_fn,Ls_fun)\n",
        "      gw,gb=Back_Prop(ftrx[i],pred_y,ftry[i],ai,hi,W,B,N,nhl,act_fn,Ls_fun)\n",
        "\n",
        "      for j in range(len(gw)):\n",
        "        uw[j]=np.add(uw[j],gw[j]+wd*W[j])\n",
        "        ub[j]=np.add(ub[j],gb[j]+wd*B[j])\n",
        "\n",
        "      if((i+1)%batchsize==0 or i==53999):\n",
        "        t+=1\n",
        "        for k in range(len(gw)):\n",
        "          vw[k]=np.add(beta2*vw[k],(1-beta2)*uw[k]**2)\n",
        "          vb[k]=np.add(beta2*vb[k],(1-beta2)*ub[k]**2)\n",
        "\n",
        "          mw[k]=np.add(beta1*mw[k],(1-beta1)*uw[k])\n",
        "          mb[k]=np.add(beta1*mb[k],(1-beta1)*ub[k])\n",
        "\n",
        "          mw[k]/=(1-np.power(beta1,t,dtype=np.float64))\n",
        "          mb[k]/=(1-np.power(beta1,t,dtype=np.float64))\n",
        "\n",
        "          vw[k]=np.divide(vw[k],(1-np.power(beta2,t,dtype=np.float64)))\n",
        "          vb[k]=np.divide(vb[k],(1-np.power(beta2,t,dtype=np.float64)))\n",
        "\n",
        "          W[k]=np.subtract(W[k],((eta/batchsize)/np.sqrt(vw[k]+eps))*((beta1*mw[k]+(1-beta1)*uw[k])/(1-beta1**t)))\n",
        "          B[k]=np.subtract(B[k],((eta/batchsize)/np.sqrt(vb[k]+eps))*((beta1*mb[k]+(1-beta1)*ub[k])/(1-beta1**t)))\n",
        "\n",
        "          uw[k]=np.subtract(uw[k],uw[k])\n",
        "          ub[k]=np.subtract(ub[k],ub[k]) \n",
        "            \n",
        "    end = time.time() \n",
        "\n",
        "    trloss,tracc=train_acc_loss(W,B,act_fn,Ls_fun,wd)\n",
        "    vloss,vacc=val_acc_loss(W,B,act_fn,Ls_fun,wd)\n",
        "    wandb.log({\"epoch\":e,\"Train_loss\":trloss,\"Train_acc\":tracc,\"val_loss\":vloss,\"val_Accuracy\":vacc})\n",
        "\n",
        "  test_acc(W,B,act_fn,Ls_fun)  \n",
        "\n",
        "  return hi,W,B\n",
        " "
      ]
    },
    {
      "attachments": {},
      "cell_type": "markdown",
      "metadata": {
        "id": "cP0YfjJyMmBw"
      },
      "source": [
        "# Q4-Q7"
      ]
    },
    {
      "attachments": {},
      "cell_type": "markdown",
      "metadata": {
        "id": "NeFD1P5gMZkf"
      },
      "source": [
        "Sweep config and train function"
      ]
    },
    {
      "cell_type": "code",
      "execution_count": 28,
      "metadata": {
        "id": "JmprTnJHLtNP"
      },
      "outputs": [],
      "source": [
        "s_config = {'method'    : \"random\",'metric' : {'name': 'val_Accuracy','goal':'maximize'},\n",
        "'parameters': {\n",
        "  'optimizer' : {'values': ['sgd','gd','momentum','nesterov','rmsprop','adam','nadam']},\n",
        "  'hidden_layer_size' : {'values':[32, 64,16,20,128,50]},\n",
        "  'num_hidden_layers' : {'values':[1,2,3,5] },\n",
        "  'activation'        : {'values':['sig','relu','tanh']},\n",
        "  'lossfun'           : {'values':['ce']},\n",
        "  'lr' : {'values':[0.02,0.045,0.003,0.008,0.0065,0.0015,0.0025,0.002,0.009,0.015,0.007,0.000095,0.0004,0.0045,0.0003,0.0009,0.06,0.075,0.05,0.085,0.025,0.0055,0.01,0.04,0.004,0.35,0.0000055,0.08,0.00035,0.0075,0.065,0.006,0.0007,0.0035,0.000065,0.1,0.00075,0.0008,0.095,0.25,0.005,0.0095,0.000015,0.00001,0.0001,0.00055,0.035,0.00045,0.000045,0.00095,0.0085]},\n",
        "  'weights_initializer':{'values':['random','Xavier']},\n",
        "  'epochs'             :{'values':[5,10,6,8,15]},\n",
        "  'weightDecay'        :{'values':[0,0.005,0.0005,0.00005,0.0006]},\n",
        "  'batchsize'          :{'values':[16,32,64,128]},\n",
        "  }\n",
        "}"
      ]
    },
    {
      "cell_type": "code",
      "execution_count": 29,
      "metadata": {
        "id": "F1r1i3znLubf"
      },
      "outputs": [],
      "source": [
        "def train():\n",
        "\n",
        "  hyperparameter=dict(\n",
        "      epochs = 5,                                       \n",
        "      batchsize = 10,                                                    \n",
        "      weightDecay = 0.00005,                                            \n",
        "      hidden_layer_size = 128,\n",
        "      weights_initializer='Xaviuor',                               \n",
        "      lr=0.0095,\n",
        "      activation='tanh',                                             \n",
        "      optimizer = \"adam\",                      \n",
        "      num_hidden_layers= 3,           \n",
        "      lossfun = \"ce\",\n",
        "      \n",
        "  )\n",
        "\n",
        "  wandb.init(config=hyperparameter)\n",
        "\n",
        "  config=wandb.config\n",
        "  wandb.run.name = \"e_{}_hls_{}_numhl_{}_opt_{}_bs_{}_init_{}_ac_{}_loss_{}_learning_rate_{}_wdecay_{}\".format(config.epochs,\\\n",
        "  config.hidden_layer_size,\\\n",
        "  config.num_hidden_layers,\\\n",
        "  config.optimizer,\\\n",
        "  config.batchsize,\\\n",
        "  config.weights_initializer,\\\n",
        "  config.activation,\\\n",
        "  config.lossfun,\\\n",
        "  config.lr,\\\n",
        "  config.weightDecay)\n",
        "  \n",
        "  opt_size=10                                      \n",
        "  nrl=[config.hidden_layer_size for i in range(config.num_hidden_layers)]  \n",
        "  #gradientdecent\n",
        "  if(config.optimizer==\"sgd\"):\n",
        "    param=gradDecent(ftrx,ftry,config.weights_initializer,config.weightDecay,config.lr,config.num_hidden_layers,nrl,config.activation,config.lossfun,config.epochs,1)\n",
        "  if(config.optimizer==\"gd\"):\n",
        "    param=gradDecent(ftrx,ftry,config.weights_initializer,config.weightDecay,config.lr,config.num_hidden_layers,nrl,config.activation,config.lossfun,config.epochs,config.batchsize)\n",
        "  #adam\n",
        "  elif(config.optimizer==\"adam\"):\n",
        "    param=Adam(ftrx,ftry,config.weights_initializer,config.batchsize,1e-8,0.9,0.9,config.weightDecay,config.lr,config.num_hidden_layers,nrl,config.activation,config.lossfun,config.epochs)\n",
        "  #nadam\n",
        "  elif(config.optimizer==\"nadam\"):\n",
        "    param=NAdam(ftrx,ftry,config.weights_initializer,config.batchsize,1e-8,0.9,0.9,config.weightDecay,config.lr,config.num_hidden_layers,nrl,config.activation,config.lossfun,config.epochs)\n",
        "  #momentum\n",
        "  elif(config.optimizer==\"momentum\"):\n",
        "    param=Momentum(ftrx,ftry,config.weights_initializer,config.batchsize,0.9,config.weightDecay,config.lr,config.num_hidden_layers,nrl,config.activation,config.lossfun,config.epochs)\n",
        "  #nesterov\n",
        "  elif(config.optimizer==\"nesterov\"):\n",
        "    param=Nesterov(ftrx,ftry,config.weights_initializer,config.batchsize,0.9,config.weightDecay,config.lr,config.num_hidden_layers,nrl,config.activation,config.lossfun,config.epochs)\n",
        "  #rmsprop\n",
        "  elif(config.optimizer==\"rmsprop\"):\n",
        "    param=rmsprop(ftrx,ftry,config.weights_initializer,config.batchsize,1e-8,0.8,config.weightDecay,config.lr,config.num_hidden_layers,nrl,config.activation,config.lossfun,config.epochs)"
      ]
    },
    {
      "cell_type": "code",
      "execution_count": null,
      "metadata": {
        "id": "d8i6tRfUL4wW"
      },
      "outputs": [],
      "source": [
        "sweep_id = wandb.sweep(s_config,project='A1')\n",
        "wandb.agent(sweep_id,train,project='A1',count=150)"
      ]
    },
    {
      "attachments": {},
      "cell_type": "markdown",
      "metadata": {
        "id": "zDiOLaevL_-e"
      },
      "source": [
        "# Q8"
      ]
    },
    {
      "attachments": {},
      "cell_type": "markdown",
      "metadata": {
        "id": "eoBwECPlMoyf"
      },
      "source": [
        "**Sweep config for comparing MSE and Crossentropy**"
      ]
    },
    {
      "cell_type": "code",
      "execution_count": 30,
      "metadata": {
        "id": "VSm1ru3mNAYU"
      },
      "outputs": [],
      "source": [
        "s_mse_ce_config = {\n",
        "'method'    : \"grid\",\n",
        "'metric'    : {'name': 'val_Accuracy','goal':'maximize'},\n",
        "'parameters': {\n",
        "  'optimizer' : {'values': ['adam']},\n",
        "  'hidden_layer_size': {'values':[128]},\n",
        "  'num_hidden_layers': {'values':[3] },\n",
        "  'activation': {'values':['tanh']},\n",
        "  'lossfun': {'values':['ce','mse']},\n",
        "  'lr': {'values':[0.0095]},\n",
        "  'weights_initializer': {'values':['Xavier']},\n",
        "  'epochs':{'values':[15]},\n",
        "  'weightDecay':{'values':[0.00005]},\n",
        "  'batchsize':{'values':[32]},\n",
        "  }\n",
        "}"
      ]
    },
    {
      "cell_type": "code",
      "execution_count": 31,
      "metadata": {
        "id": "7U1Y92_aNI3A"
      },
      "outputs": [
        {
          "name": "stdout",
          "output_type": "stream",
          "text": [
            "Create sweep with ID: qpylk9vw\n",
            "Sweep URL: https://wandb.ai/karanwxlia/MSE%20VS%20CE/sweeps/qpylk9vw\n"
          ]
        },
        {
          "name": "stderr",
          "output_type": "stream",
          "text": [
            "\u001b[34m\u001b[1mwandb\u001b[0m: Agent Starting Run: vrno9w8q with config:\n",
            "\u001b[34m\u001b[1mwandb\u001b[0m: \tactivation: tanh\n",
            "\u001b[34m\u001b[1mwandb\u001b[0m: \tbatchsize: 32\n",
            "\u001b[34m\u001b[1mwandb\u001b[0m: \tepochs: 15\n",
            "\u001b[34m\u001b[1mwandb\u001b[0m: \thidden_layer_size: 128\n",
            "\u001b[34m\u001b[1mwandb\u001b[0m: \tlossfun: ce\n",
            "\u001b[34m\u001b[1mwandb\u001b[0m: \tlr: 0.0095\n",
            "\u001b[34m\u001b[1mwandb\u001b[0m: \tnum_hidden_layers: 3\n",
            "\u001b[34m\u001b[1mwandb\u001b[0m: \toptimizer: adam\n",
            "\u001b[34m\u001b[1mwandb\u001b[0m: \tweightDecay: 5e-05\n",
            "\u001b[34m\u001b[1mwandb\u001b[0m: \tweights_initializer: Xavier\n",
            "\u001b[34m\u001b[1mwandb\u001b[0m: wandb version 0.13.9 is available!  To upgrade, please run:\n",
            "\u001b[34m\u001b[1mwandb\u001b[0m:  $ pip install wandb --upgrade\n"
          ]
        },
        {
          "data": {
            "text/html": [
              "\n",
              "                Tracking run with wandb version 0.12.2<br/>\n",
              "                Syncing run <strong style=\"color:#cdcd00\">winter-sweep-1</strong> to <a href=\"https://wandb.ai\" target=\"_blank\">Weights & Biases</a> <a href=\"https://docs.wandb.com/integrations/jupyter.html\" target=\"_blank\">(Documentation)</a>.<br/>\n",
              "                Project page: <a href=\"https://wandb.ai/karanwxlia/MSE%20VS%20CE\" target=\"_blank\">https://wandb.ai/karanwxlia/MSE%20VS%20CE</a><br/>\n",
              "                Sweep page: <a href=\"https://wandb.ai/karanwxlia/MSE%20VS%20CE/sweeps/qpylk9vw\" target=\"_blank\">https://wandb.ai/karanwxlia/MSE%20VS%20CE/sweeps/qpylk9vw</a><br/>\n",
              "Run page: <a href=\"https://wandb.ai/karanwxlia/MSE%20VS%20CE/runs/vrno9w8q\" target=\"_blank\">https://wandb.ai/karanwxlia/MSE%20VS%20CE/runs/vrno9w8q</a><br/>\n",
              "                Run data is saved locally in <code>c:\\Users\\KARAN\\Desktop\\Assignmets for cs6910\\wandb\\run-20230130_125253-vrno9w8q</code><br/><br/>\n",
              "            "
            ],
            "text/plain": [
              "<IPython.core.display.HTML object>"
            ]
          },
          "metadata": {},
          "output_type": "display_data"
        },
        {
          "name": "stderr",
          "output_type": "stream",
          "text": [
            "\u001b[34m\u001b[1mwandb\u001b[0m: Visualizing heatmap.\n"
          ]
        },
        {
          "data": {
            "text/html": [
              "<br/>Waiting for W&B process to finish, PID 36032<br/>Program ended successfully."
            ],
            "text/plain": [
              "<IPython.core.display.HTML object>"
            ]
          },
          "metadata": {},
          "output_type": "display_data"
        },
        {
          "data": {
            "text/html": [
              "Find user logs for this run at: <code>c:\\Users\\KARAN\\Desktop\\Assignmets for cs6910\\wandb\\run-20230130_125253-vrno9w8q\\logs\\debug.log</code>"
            ],
            "text/plain": [
              "<IPython.core.display.HTML object>"
            ]
          },
          "metadata": {},
          "output_type": "display_data"
        },
        {
          "data": {
            "text/html": [
              "Find internal logs for this run at: <code>c:\\Users\\KARAN\\Desktop\\Assignmets for cs6910\\wandb\\run-20230130_125253-vrno9w8q\\logs\\debug-internal.log</code>"
            ],
            "text/plain": [
              "<IPython.core.display.HTML object>"
            ]
          },
          "metadata": {},
          "output_type": "display_data"
        },
        {
          "data": {
            "text/html": [
              "<h3>Run summary:</h3><br/><style>\n",
              "    table.wandb td:nth-child(1) { padding: 0 10px; text-align: right }\n",
              "    </style><table class=\"wandb\">\n",
              "<tr><td>Accuracy</td><td>0.8744</td></tr><tr><td>Train_acc</td><td>0.91594</td></tr><tr><td>Train_loss</td><td>0.22979</td></tr><tr><td>epoch</td><td>15</td></tr><tr><td>val_Accuracy</td><td>0.91633</td></tr><tr><td>val_loss</td><td>0.22601</td></tr></table>"
            ],
            "text/plain": [
              "<IPython.core.display.HTML object>"
            ]
          },
          "metadata": {},
          "output_type": "display_data"
        },
        {
          "data": {
            "text/html": [
              "<h3>Run history:</h3><br/><style>\n",
              "    table.wandb td:nth-child(1) { padding: 0 10px; text-align: right }\n",
              "    </style><table class=\"wandb\">\n",
              "<tr><td>Accuracy</td><td>▁</td></tr><tr><td>Train_acc</td><td>▁▃▅▅▆▆▇▇▇▇▇████</td></tr><tr><td>Train_loss</td><td>█▆▅▄▃▃▂▂▂▂▁▁▁▁▁</td></tr><tr><td>epoch</td><td>▁▁▂▃▃▃▄▅▅▅▆▇▇▇█</td></tr><tr><td>val_Accuracy</td><td>▁▃▅▅▆▆▇▇▇▇▇████</td></tr><tr><td>val_loss</td><td>█▆▅▄▃▃▂▂▂▂▂▁▁▁▁</td></tr></table><br/>"
            ],
            "text/plain": [
              "<IPython.core.display.HTML object>"
            ]
          },
          "metadata": {},
          "output_type": "display_data"
        },
        {
          "data": {
            "text/html": [
              "Synced 5 W&B file(s), 2 media file(s), 2 artifact file(s) and 0 other file(s)"
            ],
            "text/plain": [
              "<IPython.core.display.HTML object>"
            ]
          },
          "metadata": {},
          "output_type": "display_data"
        },
        {
          "data": {
            "text/html": [
              "\n",
              "                    <br/>Synced <strong style=\"color:#cdcd00\">winter-sweep-1</strong>: <a href=\"https://wandb.ai/karanwxlia/MSE%20VS%20CE/runs/vrno9w8q\" target=\"_blank\">https://wandb.ai/karanwxlia/MSE%20VS%20CE/runs/vrno9w8q</a><br/>\n",
              "                "
            ],
            "text/plain": [
              "<IPython.core.display.HTML object>"
            ]
          },
          "metadata": {},
          "output_type": "display_data"
        },
        {
          "name": "stderr",
          "output_type": "stream",
          "text": [
            "\u001b[34m\u001b[1mwandb\u001b[0m: Agent Starting Run: mv93p7d7 with config:\n",
            "\u001b[34m\u001b[1mwandb\u001b[0m: \tactivation: tanh\n",
            "\u001b[34m\u001b[1mwandb\u001b[0m: \tbatchsize: 32\n",
            "\u001b[34m\u001b[1mwandb\u001b[0m: \tepochs: 15\n",
            "\u001b[34m\u001b[1mwandb\u001b[0m: \thidden_layer_size: 128\n",
            "\u001b[34m\u001b[1mwandb\u001b[0m: \tlossfun: mse\n",
            "\u001b[34m\u001b[1mwandb\u001b[0m: \tlr: 0.0095\n",
            "\u001b[34m\u001b[1mwandb\u001b[0m: \tnum_hidden_layers: 3\n",
            "\u001b[34m\u001b[1mwandb\u001b[0m: \toptimizer: adam\n",
            "\u001b[34m\u001b[1mwandb\u001b[0m: \tweightDecay: 5e-05\n",
            "\u001b[34m\u001b[1mwandb\u001b[0m: \tweights_initializer: Xavier\n",
            "\u001b[34m\u001b[1mwandb\u001b[0m: wandb version 0.13.9 is available!  To upgrade, please run:\n",
            "\u001b[34m\u001b[1mwandb\u001b[0m:  $ pip install wandb --upgrade\n"
          ]
        },
        {
          "data": {
            "text/html": [
              "\n",
              "                Tracking run with wandb version 0.12.2<br/>\n",
              "                Syncing run <strong style=\"color:#cdcd00\">robust-sweep-2</strong> to <a href=\"https://wandb.ai\" target=\"_blank\">Weights & Biases</a> <a href=\"https://docs.wandb.com/integrations/jupyter.html\" target=\"_blank\">(Documentation)</a>.<br/>\n",
              "                Project page: <a href=\"https://wandb.ai/karanwxlia/MSE%20VS%20CE\" target=\"_blank\">https://wandb.ai/karanwxlia/MSE%20VS%20CE</a><br/>\n",
              "                Sweep page: <a href=\"https://wandb.ai/karanwxlia/MSE%20VS%20CE/sweeps/qpylk9vw\" target=\"_blank\">https://wandb.ai/karanwxlia/MSE%20VS%20CE/sweeps/qpylk9vw</a><br/>\n",
              "Run page: <a href=\"https://wandb.ai/karanwxlia/MSE%20VS%20CE/runs/mv93p7d7\" target=\"_blank\">https://wandb.ai/karanwxlia/MSE%20VS%20CE/runs/mv93p7d7</a><br/>\n",
              "                Run data is saved locally in <code>c:\\Users\\KARAN\\Desktop\\Assignmets for cs6910\\wandb\\run-20230130_131215-mv93p7d7</code><br/><br/>\n",
              "            "
            ],
            "text/plain": [
              "<IPython.core.display.HTML object>"
            ]
          },
          "metadata": {},
          "output_type": "display_data"
        },
        {
          "name": "stderr",
          "output_type": "stream",
          "text": [
            "\u001b[34m\u001b[1mwandb\u001b[0m: Visualizing heatmap.\n"
          ]
        },
        {
          "data": {
            "text/html": [
              "<br/>Waiting for W&B process to finish, PID 26820<br/>Program ended successfully."
            ],
            "text/plain": [
              "<IPython.core.display.HTML object>"
            ]
          },
          "metadata": {},
          "output_type": "display_data"
        },
        {
          "data": {
            "text/html": [
              "Find user logs for this run at: <code>c:\\Users\\KARAN\\Desktop\\Assignmets for cs6910\\wandb\\run-20230130_131215-mv93p7d7\\logs\\debug.log</code>"
            ],
            "text/plain": [
              "<IPython.core.display.HTML object>"
            ]
          },
          "metadata": {},
          "output_type": "display_data"
        },
        {
          "data": {
            "text/html": [
              "Find internal logs for this run at: <code>c:\\Users\\KARAN\\Desktop\\Assignmets for cs6910\\wandb\\run-20230130_131215-mv93p7d7\\logs\\debug-internal.log</code>"
            ],
            "text/plain": [
              "<IPython.core.display.HTML object>"
            ]
          },
          "metadata": {},
          "output_type": "display_data"
        },
        {
          "data": {
            "text/html": [
              "<h3>Run summary:</h3><br/><style>\n",
              "    table.wandb td:nth-child(1) { padding: 0 10px; text-align: right }\n",
              "    </style><table class=\"wandb\">\n",
              "<tr><td>Accuracy</td><td>0.8722</td></tr><tr><td>Train_acc</td><td>0.90539</td></tr><tr><td>Train_loss</td><td>0.07044</td></tr><tr><td>epoch</td><td>15</td></tr><tr><td>val_Accuracy</td><td>0.90467</td></tr><tr><td>val_loss</td><td>0.07066</td></tr></table>"
            ],
            "text/plain": [
              "<IPython.core.display.HTML object>"
            ]
          },
          "metadata": {},
          "output_type": "display_data"
        },
        {
          "data": {
            "text/html": [
              "<h3>Run history:</h3><br/><style>\n",
              "    table.wandb td:nth-child(1) { padding: 0 10px; text-align: right }\n",
              "    </style><table class=\"wandb\">\n",
              "<tr><td>Accuracy</td><td>▁</td></tr><tr><td>Train_acc</td><td>▁▄▆▆▇▇▇▇▇▇█████</td></tr><tr><td>Train_loss</td><td>█▅▃▃▂▂▂▂▂▂▁▁▁▁▁</td></tr><tr><td>epoch</td><td>▁▁▂▃▃▃▄▅▅▅▆▇▇▇█</td></tr><tr><td>val_Accuracy</td><td>▁▄▅▆▆▇▇▇▇▇█████</td></tr><tr><td>val_loss</td><td>█▅▃▃▃▂▂▂▂▂▁▁▁▁▁</td></tr></table><br/>"
            ],
            "text/plain": [
              "<IPython.core.display.HTML object>"
            ]
          },
          "metadata": {},
          "output_type": "display_data"
        },
        {
          "data": {
            "text/html": [
              "Synced 5 W&B file(s), 2 media file(s), 2 artifact file(s) and 0 other file(s)"
            ],
            "text/plain": [
              "<IPython.core.display.HTML object>"
            ]
          },
          "metadata": {},
          "output_type": "display_data"
        },
        {
          "data": {
            "text/html": [
              "\n",
              "                    <br/>Synced <strong style=\"color:#cdcd00\">robust-sweep-2</strong>: <a href=\"https://wandb.ai/karanwxlia/MSE%20VS%20CE/runs/mv93p7d7\" target=\"_blank\">https://wandb.ai/karanwxlia/MSE%20VS%20CE/runs/mv93p7d7</a><br/>\n",
              "                "
            ],
            "text/plain": [
              "<IPython.core.display.HTML object>"
            ]
          },
          "metadata": {},
          "output_type": "display_data"
        },
        {
          "name": "stderr",
          "output_type": "stream",
          "text": [
            "\u001b[34m\u001b[1mwandb\u001b[0m: Sweep Agent: Waiting for job.\n",
            "\u001b[34m\u001b[1mwandb\u001b[0m: Sweep Agent: Exiting.\n"
          ]
        }
      ],
      "source": [
        "sweep_id = wandb.sweep(s_mse_ce_config ,project='MSE VS CE')\n",
        "wandb.agent(sweep_id,train,project='MSE VS CE')"
      ]
    },
    {
      "attachments": {},
      "cell_type": "markdown",
      "metadata": {
        "id": "sh23FtohOHuH"
      },
      "source": [
        "# Q 10"
      ]
    },
    {
      "attachments": {},
      "cell_type": "markdown",
      "metadata": {
        "id": "fg3kEfdeOLL2"
      },
      "source": [
        "**Getting the train and test set from the mnist data**"
      ]
    },
    {
      "cell_type": "code",
      "execution_count": 32,
      "metadata": {
        "id": "8VVBSznMOHY_"
      },
      "outputs": [],
      "source": [
        "((xtrain, ytrain), (xtest, ytest)) = mnist.load_data()\n",
        "items=[\"0\", \"1\",\"2\", \"3\", \"4\", \"5\", \"6\", \"7\", \"8\",\"9\"]\n",
        "\n",
        "ftex=np.zeros((10000,784))\n",
        "ftey=np.zeros((10000,10))\n",
        "ftrx=np.zeros((60000,784))\n",
        "ftry=np.zeros((60000,10))\n",
        "\n",
        "for i in range(len(xtrain)):\n",
        "  ftrx[i]=xtrain[i].flatten()\n",
        "  ftrx[i]=ftrx[i]/256\n",
        "  ftry[i][ytrain[i]]=1\n",
        "for i in range(len(xtest)):\n",
        "  ftex[i]=xtest[i].flatten()\n",
        "  ftex[i]=ftex[i]/256\n",
        "  ftey[i][ytest[i]]=1"
      ]
    },
    {
      "attachments": {},
      "cell_type": "markdown",
      "metadata": {
        "id": "iMUhMHq0PEkV"
      },
      "source": [
        "**Hyperparameter config 1**"
      ]
    },
    {
      "cell_type": "code",
      "execution_count": 33,
      "metadata": {
        "id": "qxm2C7Q-O-An"
      },
      "outputs": [
        {
          "name": "stderr",
          "output_type": "stream",
          "text": [
            "\u001b[34m\u001b[1mwandb\u001b[0m: \u001b[33mWARNING\u001b[0m Ignored wandb.init() arg project when running a sweep\n",
            "\u001b[34m\u001b[1mwandb\u001b[0m: wandb version 0.13.9 is available!  To upgrade, please run:\n",
            "\u001b[34m\u001b[1mwandb\u001b[0m:  $ pip install wandb --upgrade\n"
          ]
        },
        {
          "data": {
            "text/html": [
              "\n",
              "                Tracking run with wandb version 0.12.2<br/>\n",
              "                Syncing run <strong style=\"color:#cdcd00\">e_15_hls_128_numhl_3_opt_adam_bs_32_init_Xavier_ac_tanh_loss_mse_learning_rate_0.0095_wdecay_5e-05</strong> to <a href=\"https://wandb.ai\" target=\"_blank\">Weights & Biases</a> <a href=\"https://docs.wandb.com/integrations/jupyter.html\" target=\"_blank\">(Documentation)</a>.<br/>\n",
              "                Project page: <a href=\"https://wandb.ai/karanwxlia/MSE%20VS%20CE\" target=\"_blank\">https://wandb.ai/karanwxlia/MSE%20VS%20CE</a><br/>\n",
              "                Sweep page: <a href=\"https://wandb.ai/karanwxlia/MSE%20VS%20CE/sweeps/qpylk9vw\" target=\"_blank\">https://wandb.ai/karanwxlia/MSE%20VS%20CE/sweeps/qpylk9vw</a><br/>\n",
              "Run page: <a href=\"https://wandb.ai/karanwxlia/MSE%20VS%20CE/runs/mv93p7d7\" target=\"_blank\">https://wandb.ai/karanwxlia/MSE%20VS%20CE/runs/mv93p7d7</a><br/>\n",
              "                Run data is saved locally in <code>c:\\Users\\KARAN\\Desktop\\Assignmets for cs6910\\wandb\\run-20230130_132826-mv93p7d7</code><br/><br/>\n",
              "            "
            ],
            "text/plain": [
              "<IPython.core.display.HTML object>"
            ]
          },
          "metadata": {},
          "output_type": "display_data"
        },
        {
          "name": "stderr",
          "output_type": "stream",
          "text": [
            "\u001b[34m\u001b[1mwandb\u001b[0m: Visualizing heatmap.\n"
          ]
        }
      ],
      "source": [
        "wandb.init(project=\"A1\")\n",
        "epochs = 15                                       \n",
        "batchsize = 32                                                    \n",
        "weightDecay = 0.00005                                           \n",
        "hidden_layer_size = 128\n",
        "weights_initializer='Xaviuor'                               \n",
        "lr=0.0095\n",
        "activation='tanh'                                            \n",
        "optimizer = \"adam\"                      \n",
        "num_hidden_layers= 3           \n",
        "lossfun = \"mse\"\n",
        "\n",
        "wandb.run.name=\"e_{}_hls_{}_numhl_{}_opt_{}_bs_{}_init_{}_ac_{}_loss_{}_learning_rate_{}_wdecay_{}\".format(epochs,\\\n",
        "hidden_layer_size,\\\n",
        "num_hidden_layers,\\\n",
        "optimizer,\\\n",
        "batchsize,\\\n",
        "weights_initializer,\\\n",
        "activation,\\\n",
        "lossfun,\\\n",
        "lr,\\\n",
        "weightDecay)\n",
        "nhl=[hidden_layer_size for i in range(num_hidden_layers)]\n",
        "param=Adam(ftrx,ftry,weights_initializer,batchsize,1e-8,0.9,0.9,weightDecay,lr,num_hidden_layers,nhl,activation,lossfun,epochs)\n",
        "  "
      ]
    },
    {
      "attachments": {},
      "cell_type": "markdown",
      "metadata": {
        "id": "e8ZlXBoFPLfI"
      },
      "source": [
        "**Hyperparameter config 2**"
      ]
    },
    {
      "cell_type": "code",
      "execution_count": 34,
      "metadata": {
        "id": "jTwj2ZFIPXBg"
      },
      "outputs": [
        {
          "name": "stderr",
          "output_type": "stream",
          "text": [
            "\u001b[34m\u001b[1mwandb\u001b[0m: \u001b[33mWARNING\u001b[0m Ignored wandb.init() arg project when running a sweep\n"
          ]
        },
        {
          "data": {
            "text/html": [
              "Finishing last run (ID:mv93p7d7) before initializing another..."
            ],
            "text/plain": [
              "<IPython.core.display.HTML object>"
            ]
          },
          "metadata": {},
          "output_type": "display_data"
        },
        {
          "data": {
            "text/html": [
              "<br/>Waiting for W&B process to finish, PID 3912<br/>Program ended successfully."
            ],
            "text/plain": [
              "<IPython.core.display.HTML object>"
            ]
          },
          "metadata": {},
          "output_type": "display_data"
        },
        {
          "data": {
            "text/html": [
              "Find user logs for this run at: <code>c:\\Users\\KARAN\\Desktop\\Assignmets for cs6910\\wandb\\run-20230130_132826-mv93p7d7\\logs\\debug.log</code>"
            ],
            "text/plain": [
              "<IPython.core.display.HTML object>"
            ]
          },
          "metadata": {},
          "output_type": "display_data"
        },
        {
          "data": {
            "text/html": [
              "Find internal logs for this run at: <code>c:\\Users\\KARAN\\Desktop\\Assignmets for cs6910\\wandb\\run-20230130_132826-mv93p7d7\\logs\\debug-internal.log</code>"
            ],
            "text/plain": [
              "<IPython.core.display.HTML object>"
            ]
          },
          "metadata": {},
          "output_type": "display_data"
        },
        {
          "data": {
            "text/html": [
              "<h3>Run summary:</h3><br/><style>\n",
              "    table.wandb td:nth-child(1) { padding: 0 10px; text-align: right }\n",
              "    </style><table class=\"wandb\">\n",
              "<tr><td>Accuracy</td><td>0.9688</td></tr><tr><td>Train_acc</td><td>0.98183</td></tr><tr><td>Train_loss</td><td>0.01429</td></tr><tr><td>epoch</td><td>15</td></tr><tr><td>val_Accuracy</td><td>0.98367</td></tr><tr><td>val_loss</td><td>0.01273</td></tr></table>"
            ],
            "text/plain": [
              "<IPython.core.display.HTML object>"
            ]
          },
          "metadata": {},
          "output_type": "display_data"
        },
        {
          "data": {
            "text/html": [
              "<h3>Run history:</h3><br/><style>\n",
              "    table.wandb td:nth-child(1) { padding: 0 10px; text-align: right }\n",
              "    </style><table class=\"wandb\">\n",
              "<tr><td>Accuracy</td><td>▁</td></tr><tr><td>Train_acc</td><td>▁▅▆▇▇▇█████████</td></tr><tr><td>Train_loss</td><td>█▄▃▂▂▂▁▁▁▁▁▁▁▁▁</td></tr><tr><td>epoch</td><td>▁▁▂▃▃▃▄▅▅▅▆▇▇▇█</td></tr><tr><td>val_Accuracy</td><td>▁▅▆▇▇██████████</td></tr><tr><td>val_loss</td><td>█▄▃▂▂▁▁▁▁▁▁▁▁▁▁</td></tr></table><br/>"
            ],
            "text/plain": [
              "<IPython.core.display.HTML object>"
            ]
          },
          "metadata": {},
          "output_type": "display_data"
        },
        {
          "data": {
            "text/html": [
              "Synced 5 W&B file(s), 2 media file(s), 2 artifact file(s) and 0 other file(s)"
            ],
            "text/plain": [
              "<IPython.core.display.HTML object>"
            ]
          },
          "metadata": {},
          "output_type": "display_data"
        },
        {
          "data": {
            "text/html": [
              "\n",
              "                    <br/>Synced <strong style=\"color:#cdcd00\">e_15_hls_128_numhl_3_opt_adam_bs_32_init_Xavier_ac_tanh_loss_mse_learning_rate_0.0095_wdecay_5e-05</strong>: <a href=\"https://wandb.ai/karanwxlia/MSE%20VS%20CE/runs/mv93p7d7\" target=\"_blank\">https://wandb.ai/karanwxlia/MSE%20VS%20CE/runs/mv93p7d7</a><br/>\n",
              "                "
            ],
            "text/plain": [
              "<IPython.core.display.HTML object>"
            ]
          },
          "metadata": {},
          "output_type": "display_data"
        },
        {
          "data": {
            "text/html": [
              "...Successfully finished last run (ID:mv93p7d7). Initializing new run:<br/><br/>"
            ],
            "text/plain": [
              "<IPython.core.display.HTML object>"
            ]
          },
          "metadata": {},
          "output_type": "display_data"
        },
        {
          "name": "stderr",
          "output_type": "stream",
          "text": [
            "\u001b[34m\u001b[1mwandb\u001b[0m: wandb version 0.13.9 is available!  To upgrade, please run:\n",
            "\u001b[34m\u001b[1mwandb\u001b[0m:  $ pip install wandb --upgrade\n"
          ]
        },
        {
          "data": {
            "text/html": [
              "\n",
              "                Tracking run with wandb version 0.12.2<br/>\n",
              "                Syncing run <strong style=\"color:#cdcd00\">e_15_hls_128_numhl_3_opt_adam_bs_32_init_Xaviuor_ac_tanh_loss_mse_learning_rate_0.0095_wdecay_5e-05</strong> to <a href=\"https://wandb.ai\" target=\"_blank\">Weights & Biases</a> <a href=\"https://docs.wandb.com/integrations/jupyter.html\" target=\"_blank\">(Documentation)</a>.<br/>\n",
              "                Project page: <a href=\"https://wandb.ai/karanwxlia/MSE%20VS%20CE\" target=\"_blank\">https://wandb.ai/karanwxlia/MSE%20VS%20CE</a><br/>\n",
              "                Sweep page: <a href=\"https://wandb.ai/karanwxlia/MSE%20VS%20CE/sweeps/qpylk9vw\" target=\"_blank\">https://wandb.ai/karanwxlia/MSE%20VS%20CE/sweeps/qpylk9vw</a><br/>\n",
              "Run page: <a href=\"https://wandb.ai/karanwxlia/MSE%20VS%20CE/runs/mv93p7d7\" target=\"_blank\">https://wandb.ai/karanwxlia/MSE%20VS%20CE/runs/mv93p7d7</a><br/>\n",
              "                Run data is saved locally in <code>c:\\Users\\KARAN\\Desktop\\Assignmets for cs6910\\wandb\\run-20230130_134225-mv93p7d7</code><br/><br/>\n",
              "            "
            ],
            "text/plain": [
              "<IPython.core.display.HTML object>"
            ]
          },
          "metadata": {},
          "output_type": "display_data"
        },
        {
          "name": "stderr",
          "output_type": "stream",
          "text": [
            "\u001b[34m\u001b[1mwandb\u001b[0m: Visualizing heatmap.\n"
          ]
        }
      ],
      "source": [
        "wandb.init(project=\"A1\")\n",
        "epochs = 15                                       \n",
        "batchsize = 32                                                    \n",
        "weightDecay = 0.00005                                           \n",
        "hidden_layer_size = 64\n",
        "weights_initializer='Xaviuor'                               \n",
        "lr=0.0055\n",
        "activation='tanh'                                            \n",
        "optimizer = \"nadam\"                      \n",
        "num_hidden_layers= 1           \n",
        "lossfun = \"ce\"\n",
        "\n",
        "wandb.run.name=\"e_{}_hls_{}_numhl_{}_opt_{}_bs_{}_init_{}_ac_{}_loss_{}_learning_rate_{}_wdecay_{}\".format(epochs,\\\n",
        "hidden_layer_size,\\\n",
        "num_hidden_layers,\\\n",
        "optimizer,\\\n",
        "batchsize,\\\n",
        "weights_initializer,\\\n",
        "activation,\\\n",
        "lossfun,\\\n",
        "lr,\\\n",
        "weightDecay)\n",
        "nhl=[hidden_layer_size for i in range(num_hidden_layers)]\n",
        "param=NAdam(ftrx,ftry,weights_initializer,batchsize,1e-8,0.9,0.9,weightDecay,lr,num_hidden_layers,nhl,activation,lossfun,epochs)"
      ]
    },
    {
      "attachments": {},
      "cell_type": "markdown",
      "metadata": {
        "id": "2E7oJysgPcXe"
      },
      "source": [
        "**Hyperparameter config 3**"
      ]
    },
    {
      "cell_type": "code",
      "execution_count": 35,
      "metadata": {
        "id": "fiBm63bZPfGW"
      },
      "outputs": [
        {
          "name": "stderr",
          "output_type": "stream",
          "text": [
            "\u001b[34m\u001b[1mwandb\u001b[0m: \u001b[33mWARNING\u001b[0m Ignored wandb.init() arg project when running a sweep\n"
          ]
        },
        {
          "data": {
            "text/html": [
              "Finishing last run (ID:mv93p7d7) before initializing another..."
            ],
            "text/plain": [
              "<IPython.core.display.HTML object>"
            ]
          },
          "metadata": {},
          "output_type": "display_data"
        },
        {
          "data": {
            "text/html": [
              "<br/>Waiting for W&B process to finish, PID 28228<br/>Program ended successfully."
            ],
            "text/plain": [
              "<IPython.core.display.HTML object>"
            ]
          },
          "metadata": {},
          "output_type": "display_data"
        },
        {
          "data": {
            "text/html": [
              "Find user logs for this run at: <code>c:\\Users\\KARAN\\Desktop\\Assignmets for cs6910\\wandb\\run-20230130_134225-mv93p7d7\\logs\\debug.log</code>"
            ],
            "text/plain": [
              "<IPython.core.display.HTML object>"
            ]
          },
          "metadata": {},
          "output_type": "display_data"
        },
        {
          "data": {
            "text/html": [
              "Find internal logs for this run at: <code>c:\\Users\\KARAN\\Desktop\\Assignmets for cs6910\\wandb\\run-20230130_134225-mv93p7d7\\logs\\debug-internal.log</code>"
            ],
            "text/plain": [
              "<IPython.core.display.HTML object>"
            ]
          },
          "metadata": {},
          "output_type": "display_data"
        },
        {
          "data": {
            "text/html": [
              "<h3>Run summary:</h3><br/><style>\n",
              "    table.wandb td:nth-child(1) { padding: 0 10px; text-align: right }\n",
              "    </style><table class=\"wandb\">\n",
              "<tr><td>Accuracy</td><td>0.962</td></tr><tr><td>Train_acc</td><td>0.96978</td></tr><tr><td>Train_loss</td><td>0.10894</td></tr><tr><td>epoch</td><td>15</td></tr><tr><td>val_Accuracy</td><td>0.975</td></tr><tr><td>val_loss</td><td>0.09646</td></tr></table>"
            ],
            "text/plain": [
              "<IPython.core.display.HTML object>"
            ]
          },
          "metadata": {},
          "output_type": "display_data"
        },
        {
          "data": {
            "text/html": [
              "<h3>Run history:</h3><br/><style>\n",
              "    table.wandb td:nth-child(1) { padding: 0 10px; text-align: right }\n",
              "    </style><table class=\"wandb\">\n",
              "<tr><td>Accuracy</td><td>▁</td></tr><tr><td>Train_acc</td><td>▁▄▅▆▆▆▇▇▇▇█████</td></tr><tr><td>Train_loss</td><td>█▅▄▃▃▂▂▂▂▂▁▁▁▁▁</td></tr><tr><td>epoch</td><td>▁▁▂▃▃▃▄▅▅▅▆▇▇▇█</td></tr><tr><td>val_Accuracy</td><td>▁▄▅▆▆▇▇▇▇▇█████</td></tr><tr><td>val_loss</td><td>█▅▄▃▃▂▂▂▂▂▁▁▁▁▁</td></tr></table><br/>"
            ],
            "text/plain": [
              "<IPython.core.display.HTML object>"
            ]
          },
          "metadata": {},
          "output_type": "display_data"
        },
        {
          "data": {
            "text/html": [
              "Synced 5 W&B file(s), 2 media file(s), 2 artifact file(s) and 0 other file(s)"
            ],
            "text/plain": [
              "<IPython.core.display.HTML object>"
            ]
          },
          "metadata": {},
          "output_type": "display_data"
        },
        {
          "data": {
            "text/html": [
              "\n",
              "                    <br/>Synced <strong style=\"color:#cdcd00\">e_15_hls_128_numhl_3_opt_adam_bs_32_init_Xaviuor_ac_tanh_loss_mse_learning_rate_0.0095_wdecay_5e-05</strong>: <a href=\"https://wandb.ai/karanwxlia/MSE%20VS%20CE/runs/mv93p7d7\" target=\"_blank\">https://wandb.ai/karanwxlia/MSE%20VS%20CE/runs/mv93p7d7</a><br/>\n",
              "                "
            ],
            "text/plain": [
              "<IPython.core.display.HTML object>"
            ]
          },
          "metadata": {},
          "output_type": "display_data"
        },
        {
          "data": {
            "text/html": [
              "...Successfully finished last run (ID:mv93p7d7). Initializing new run:<br/><br/>"
            ],
            "text/plain": [
              "<IPython.core.display.HTML object>"
            ]
          },
          "metadata": {},
          "output_type": "display_data"
        },
        {
          "name": "stderr",
          "output_type": "stream",
          "text": [
            "\u001b[34m\u001b[1mwandb\u001b[0m: wandb version 0.13.9 is available!  To upgrade, please run:\n",
            "\u001b[34m\u001b[1mwandb\u001b[0m:  $ pip install wandb --upgrade\n"
          ]
        },
        {
          "data": {
            "text/html": [
              "\n",
              "                Tracking run with wandb version 0.12.2<br/>\n",
              "                Syncing run <strong style=\"color:#cdcd00\">e_15_hls_64_numhl_1_opt_nadam_bs_32_init_Xaviuor_ac_tanh_loss_ce_learning_rate_0.0055_wdecay_5e-05</strong> to <a href=\"https://wandb.ai\" target=\"_blank\">Weights & Biases</a> <a href=\"https://docs.wandb.com/integrations/jupyter.html\" target=\"_blank\">(Documentation)</a>.<br/>\n",
              "                Project page: <a href=\"https://wandb.ai/karanwxlia/MSE%20VS%20CE\" target=\"_blank\">https://wandb.ai/karanwxlia/MSE%20VS%20CE</a><br/>\n",
              "                Sweep page: <a href=\"https://wandb.ai/karanwxlia/MSE%20VS%20CE/sweeps/qpylk9vw\" target=\"_blank\">https://wandb.ai/karanwxlia/MSE%20VS%20CE/sweeps/qpylk9vw</a><br/>\n",
              "Run page: <a href=\"https://wandb.ai/karanwxlia/MSE%20VS%20CE/runs/mv93p7d7\" target=\"_blank\">https://wandb.ai/karanwxlia/MSE%20VS%20CE/runs/mv93p7d7</a><br/>\n",
              "                Run data is saved locally in <code>c:\\Users\\KARAN\\Desktop\\Assignmets for cs6910\\wandb\\run-20230130_134710-mv93p7d7</code><br/><br/>\n",
              "            "
            ],
            "text/plain": [
              "<IPython.core.display.HTML object>"
            ]
          },
          "metadata": {},
          "output_type": "display_data"
        },
        {
          "name": "stderr",
          "output_type": "stream",
          "text": [
            "\u001b[34m\u001b[1mwandb\u001b[0m: Visualizing heatmap.\n"
          ]
        }
      ],
      "source": [
        "wandb.init(project=\"A1\")\n",
        "epochs = 15                                       \n",
        "batchsize = 32                                                    \n",
        "weightDecay = 0.00005                                           \n",
        "hidden_layer_size = 32\n",
        "weights_initializer='Xaviuor'                               \n",
        "lr=0.04\n",
        "activation='relu'                                            \n",
        "optimizer = \"nadam\"                      \n",
        "num_hidden_layers= 2           \n",
        "lossfun = \"ce\"\n",
        "\n",
        "wandb.run.name=\"e_{}_hls_{}_numhl_{}_opt_{}_bs_{}_init_{}_ac_{}_loss_{}_learning_rate_{}_wdecay_{}\".format(epochs,\\\n",
        "hidden_layer_size,\\\n",
        "num_hidden_layers,\\\n",
        "optimizer,\\\n",
        "batchsize,\\\n",
        "weights_initializer,\\\n",
        "activation,\\\n",
        "lossfun,\\\n",
        "lr,\\\n",
        "weightDecay)\n",
        "nhl=[hidden_layer_size for i in range(num_hidden_layers)]\n",
        "param=NAdam(ftrx,ftry,weights_initializer,batchsize,1e-8,0.9,0.9,weightDecay,lr,num_hidden_layers,nhl,activation,lossfun,epochs)"
      ]
    },
    {
      "cell_type": "code",
      "execution_count": null,
      "metadata": {},
      "outputs": [],
      "source": []
    }
  ],
  "metadata": {
    "colab": {
      "authorship_tag": "ABX9TyOH6MYxwOKXllAMxzS2p4lK",
      "include_colab_link": true,
      "name": "cs20m049_cs21m019.ipynb",
      "provenance": []
    },
    "kernelspec": {
      "display_name": "Python 3",
      "language": "python",
      "name": "python3"
    },
    "language_info": {
      "codemirror_mode": {
        "name": "ipython",
        "version": 3
      },
      "file_extension": ".py",
      "mimetype": "text/x-python",
      "name": "python",
      "nbconvert_exporter": "python",
      "pygments_lexer": "ipython3",
      "version": "3.10.8"
    },
    "vscode": {
      "interpreter": {
        "hash": "e7fdc5f3cce225da97ecbb62baa9d502a10bee8c564318ad754c1ff5e9f74492"
      }
    }
  },
  "nbformat": 4,
  "nbformat_minor": 0
}
