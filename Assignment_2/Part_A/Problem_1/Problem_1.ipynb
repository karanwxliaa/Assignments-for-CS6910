{
  "cells": [
    {
      "cell_type": "markdown",
      "metadata": {
        "id": "oWejop-kpJdc"
      },
      "source": [
        "**IMPORTING REQUIRED LIBRARIES**"
      ]
    },
    {
      "cell_type": "code",
      "execution_count": 1,
      "metadata": {
        "id": "KTCAHfTc66zf"
      },
      "outputs": [],
      "source": [
        "import tensorflow as tf\n",
        "from tensorflow import keras\n",
        "from tensorflow.keras import layers\n",
        "from tensorflow.keras.models import Sequential\n",
        "import matplotlib.pyplot as plt\n",
        "import numpy as np\n",
        "import os\n",
        "import PIL\n",
        "import cv2\n",
        "import pathlib\n",
        "import glob\n",
        "import shutil\n",
        "import os\n",
        "import random"
      ]
    },
    {
      "cell_type": "markdown",
      "metadata": {
        "id": "TET9FvESoMP5"
      },
      "source": [
        "\n",
        "**IMPORTING THE DATA**"
      ]
    },
    {
      "cell_type": "code",
      "execution_count": 2,
      "metadata": {
        "colab": {
          "base_uri": "https://localhost:8080/"
        },
        "id": "s2VpRP5MxlKf",
        "outputId": "ff054a22-a55e-45f6-8f58-d2c7f98a9e9d"
      },
      "outputs": [
        {
          "name": "stdout",
          "output_type": "stream",
          "text": [
            "/root\n",
            "/root/.keras/datasets\n"
          ]
        }
      ],
      "source": [
        "######################################### caution : terminal commands #######################################################\n",
        "\n",
        "#-------------------------------------empty the datasets forlder before downloading the dataset -------------------------------------\n",
        "\n",
        "%cd\n",
        "%cd .keras/datasets/\n",
        "!rm -r *"
      ]
    },
    {
      "cell_type": "code",
      "execution_count": 3,
      "metadata": {
        "colab": {
          "base_uri": "https://localhost:8080/"
        },
        "id": "7cHTe-1z7tdF",
        "outputId": "801db711-5c35-441e-8623-7322962d7714"
      },
      "outputs": [
        {
          "name": "stdout",
          "output_type": "stream",
          "text": [
            "Downloading data from https://storage.googleapis.com/wandb_datasets/nature_12K.zip\n",
            "3816693760/3816687935 [==============================] - 43s 0us/step\n"
          ]
        }
      ],
      "source": [
        "########################################### download data from given url ###############################################3\n",
        "\n",
        "dataset_url = \"https://storage.googleapis.com/wandb_datasets/nature_12K.zip\"\n",
        "data_dir = tf.keras.utils.get_file('nature_12K', origin=dataset_url, extract=True)\n"
      ]
    },
    {
      "cell_type": "markdown",
      "metadata": {
        "id": "3n--Egiv5E4C"
      },
      "source": [
        "**SPLITTING THE DATA**"
      ]
    },
    {
      "cell_type": "code",
      "execution_count": 4,
      "metadata": {
        "colab": {
          "base_uri": "https://localhost:8080/"
        },
        "id": "AdH9jqUI3VXu",
        "outputId": "232a0b79-ad09-4d12-8790-c942a28368de"
      },
      "outputs": [
        {
          "name": "stdout",
          "output_type": "stream",
          "text": [
            "/root\n",
            "/root/.keras/datasets/inaturalist_12K\n"
          ]
        }
      ],
      "source": [
        "#---------------------------------------------caution : terminal commands ----------------------------------------------\n",
        "\n",
        "%cd\n",
        "%cd .keras/datasets/inaturalist_12K\n",
        "%mv val test\n",
        "!mkdir valid"
      ]
    },
    {
      "cell_type": "code",
      "execution_count": 5,
      "metadata": {
        "id": "xOL-kw6ZFyXz"
      },
      "outputs": [],
      "source": [
        "#################################### split train data into validation set and training set ###################################\n",
        "\n",
        "data_folder = '/root/.keras/datasets/inaturalist_12K'\n",
        "os.chdir(data_folder)\n",
        "\n",
        "folder_names = ['Amphibia', 'Animalia', 'Arachnida', 'Aves', 'Fungi', 'Insecta', 'Mammalia', 'Mollusca', 'Plantae', 'Reptilia' ]\n",
        "for i in range(0,10):\n",
        "  source = data_folder + \"/train/\" +folder_names[i]  \n",
        "  orig_files = os.listdir(source)\n",
        "  chosen_indexes = random.sample(range(0, len(orig_files)-1), 100)\n",
        "\n",
        "  destination = data_folder + \"/valid/\"\n",
        "  os.chdir(destination)\n",
        "  os.system('mkdir'+' '+str(folder_names[i]))\n",
        "  destination = destination + folder_names[i]\n",
        "  for j in range(0,100):\n",
        "    shutil.move(   source +\"/\" + str(   orig_files[   chosen_indexes[j]  ]   )  , destination)\n"
      ]
    },
    {
      "cell_type": "code",
      "execution_count": 6,
      "metadata": {
        "id": "aPbh7g46gDn3"
      },
      "outputs": [],
      "source": [
        "####################################### Correcting the directory location ####################################################\n",
        "\n",
        "data_dir = data_dir.split('/')\n",
        "data_dir.remove('nature_12K')\n",
        "data_dir.append('inaturalist_12K')\n",
        "data_dir = '/'.join(data_dir)"
      ]
    },
    {
      "cell_type": "code",
      "execution_count": 7,
      "metadata": {
        "id": "mmVVktRSklrV"
      },
      "outputs": [],
      "source": [
        "#-------------------------------------Taking the train data--------------------------------------------------------\n",
        "train_data_dir_path = data_dir + '/train'\n",
        "train_data_dir = pathlib.Path(train_data_dir_path)\n",
        "\n",
        "#--------------------------------------Taking the validation data-----------------------------------------------\n",
        "valid_data_dir_path = data_dir + '/valid'\n",
        "valid_data_dir = pathlib.Path(valid_data_dir_path)\n",
        "\n",
        "#----------------------------------------Taking the test data-----------------------------------------------\n",
        "test_data_dir_path = data_dir + '/test'\n",
        "test_data_dir = pathlib.Path(test_data_dir_path)"
      ]
    },
    {
      "cell_type": "code",
      "execution_count": 8,
      "metadata": {
        "id": "ajBb-R_hlR7A"
      },
      "outputs": [],
      "source": [
        "#------------------------------------------Parameters for the images-------------------------------------------------\n",
        "batch_size = 32\n",
        "img_height = 180\n",
        "img_width = 180"
      ]
    },
    {
      "cell_type": "code",
      "execution_count": 9,
      "metadata": {
        "colab": {
          "base_uri": "https://localhost:8080/"
        },
        "id": "fyDCKLnkzhf7",
        "outputId": "3a9c9701-cfb7-4338-b1ce-999412da3ab0"
      },
      "outputs": [
        {
          "name": "stdout",
          "output_type": "stream",
          "text": [
            "Found 8999 files belonging to 10 classes.\n",
            "Found 1000 files belonging to 10 classes.\n"
          ]
        }
      ],
      "source": [
        "####################################### converting the image data into dataset ############################################\n",
        "\n",
        "#-------------------------------------training dataset -----------------------------------------------------\n",
        "train_ds = tf.keras.preprocessing.image_dataset_from_directory(\n",
        "  train_data_dir,\n",
        "  seed=123,\n",
        "  image_size=(img_height, img_width),\n",
        "  batch_size=batch_size\n",
        "  )\n",
        "\n",
        "#----------------------------------------------validation dataset -----------------------------------------------\n",
        "val_ds = tf.keras.preprocessing.image_dataset_from_directory(\n",
        "  valid_data_dir,\n",
        "  seed=123,\n",
        "  image_size=(img_height, img_width),\n",
        "  batch_size=batch_size\n",
        "  )"
      ]
    },
    {
      "cell_type": "markdown",
      "metadata": {
        "id": "EuRYfT4THW2h"
      },
      "source": [
        "**CONVOLUTIONAL NEURAL NETWORK**"
      ]
    },
    {
      "cell_type": "code",
      "execution_count": 14,
      "metadata": {
        "id": "ZJO2h0D-7T0u"
      },
      "outputs": [],
      "source": [
        "class CNN():\n",
        "\n",
        "############################################# constructor for class CNN ##########################################\n",
        "  def __init__(self, batch_size, img_height, img_width, filter_count, filter_size, active_func,dense_neurons_count,maxpool_size,output_neurons_count, optimizer='adam'):\n",
        "    self.batch_size = batch_size\n",
        "    self.img_height = img_height\n",
        "    self.img_width = img_width\n",
        "    self.filter_count = filter_count\n",
        "    self.filter_size = filter_size\n",
        "    self.active_func = active_func\n",
        "    self.dense_neurons_count = dense_neurons_count\n",
        "    self.maxpool_size = maxpool_size\n",
        "    self.num_classes = output_neurons_count\n",
        "    self.optimizer = optimizer\n",
        "    self.model = self.create_model(5)\n",
        "\n",
        "\n",
        "############################################### function to create model ####################################################\n",
        "  def create_model(self, num_layers):\n",
        "\n",
        "    #-------------------------------------------creating the CNN model -----------------------------------------------------\n",
        "\n",
        "    layerslist = []\n",
        "    #------------------Including a normalisation layer in the model---------------------------------------\n",
        "    layerslist.append(layers.experimental.preprocessing.Rescaling(1./255, input_shape=(self.img_height, self.img_width, 3)))\n",
        "\n",
        "    #------------------Creating (convolution,activation,maxpool) layers in the model---------------------------------------\n",
        "    for i in range(0,num_layers):\n",
        "      layerslist.append(layers.Conv2D(self.filter_count[i], self.filter_size[i], padding='same', activation = self.active_func[i]))\n",
        "      layerslist.append(layers.MaxPooling2D(pool_size = self.maxpool_size[i]))\n",
        "\n",
        "    layerslist.append(layers.Flatten())\n",
        "    layerslist.append(layers.Dense(self.dense_neurons_count,  activation = self.active_func[num_layers]))\n",
        "    layerslist.append(layers.Dense(self.num_classes))\n",
        "\n",
        "    model = Sequential(layerslist)\n",
        "\n",
        "    # ---------------------------------------compiling the CNN model ----------------------------------------------------------\n",
        "    model.compile(\n",
        "    optimizer = self.optimizer,\n",
        "    loss=tf.keras.losses.SparseCategoricalCrossentropy(from_logits=True),\n",
        "    metrics=['accuracy'] )\n",
        "\n",
        "    #--------------------------------------------- return final model --------------------------------------------------------\n",
        "    return model \n",
        "\n",
        "\n",
        "  \n",
        "############################################## function for training the model ##################################################3\n",
        "  def train(self, train_ds, val_ds, epochs = 10):\n",
        "\n",
        "    #------------------------------------caching the datasets -----------------------------------------------\n",
        "    AUTOTUNE = tf.data.AUTOTUNE\n",
        "    train_ds = train_ds.cache().shuffle(1000).prefetch(buffer_size=AUTOTUNE)\n",
        "    val_ds = val_ds.cache().prefetch(buffer_size=AUTOTUNE)\n",
        "\n",
        "    #------------------------------------ training the model -----------------------------------------------\n",
        "    history = self.model.fit( train_ds, validation_data=val_ds, epochs=epochs )\n",
        "    return history\n",
        "\n",
        "    \n",
        "\n",
        "\n",
        "############################################ function for summary of model ###########################################3\n",
        "  def model_summary(self):\n",
        "    return self.model.summary()\n",
        "\n",
        "#=============================================== end of class CNN ======================================================\n",
        "    "
      ]
    },
    {
      "cell_type": "code",
      "execution_count": 15,
      "metadata": {
        "id": "rSGmMQ-c7iuJ"
      },
      "outputs": [],
      "source": [
        "############################################# function to visualize result ###########################################333#\n",
        "def visualise_results(history, epochs):\n",
        "  acc = history.history['accuracy']\n",
        "  val_acc = history.history['val_accuracy']\n",
        "\n",
        "  loss = history.history['loss']\n",
        "  val_loss = history.history['val_loss']\n",
        "\n",
        "  epochs_range = range(epochs)\n",
        "\n",
        "  plt.figure(figsize=(8, 8))\n",
        "  plt.subplot(1, 2, 1)\n",
        "  plt.plot(epochs_range, acc, label='Training Accuracy')\n",
        "  plt.plot(epochs_range, val_acc, label='Validation Accuracy')\n",
        "  plt.legend(loc='lower right')\n",
        "  plt.title('Training and Validation Accuracy')\n",
        "\n",
        "  plt.subplot(1, 2, 2)\n",
        "  plt.plot(epochs_range, loss, label='Training Loss')\n",
        "  plt.plot(epochs_range, val_loss, label='Validation Loss')\n",
        "  plt.legend(loc='upper right')\n",
        "  plt.title('Training and Validation Loss')\n",
        "  plt.show()"
      ]
    },
    {
      "cell_type": "code",
      "execution_count": 16,
      "metadata": {
        "id": "4lxKZFK9HehX"
      },
      "outputs": [],
      "source": [
        "# (self, batch_size, img_height, img_width, num_filters, filter_size, active_func,dense_neurons_count,maxpool_size,output_neurons_count, optimizer='adam')\n",
        "# train(self, train_ds, val_ds, epochs = 10)\n",
        "\n",
        "batch_size = 32\n",
        "img_height = 180\n",
        "img_width = 180\n",
        "filter_count = [16,32,64,64,64]\n",
        "filter_size = [3,3,3,3,3]\n",
        "maxpool_size = [2,2,2,2,2]\n",
        "active_func = ['relu']*6\n",
        "dense_neurons_count = 120\n",
        "output_neurons_count = 10\n",
        "epochs = 2\n",
        "\n",
        "cnn = CNN(batch_size, img_height, img_width, filter_count, filter_size, active_func, dense_neurons_count, maxpool_size, output_neurons_count)"
      ]
    },
    {
      "cell_type": "code",
      "execution_count": 17,
      "metadata": {
        "colab": {
          "base_uri": "https://localhost:8080/"
        },
        "id": "ye00rBWGIWzz",
        "outputId": "372a64b6-c734-49b3-b221-6f9a707fbc17"
      },
      "outputs": [
        {
          "name": "stdout",
          "output_type": "stream",
          "text": [
            "Epoch 1/2\n",
            "282/282 [==============================] - 364s 1s/step - loss: 2.2820 - accuracy: 0.1262 - val_loss: 2.2183 - val_accuracy: 0.1560\n",
            "Epoch 2/2\n",
            "282/282 [==============================] - 283s 1s/step - loss: 2.1772 - accuracy: 0.1875 - val_loss: 2.1479 - val_accuracy: 0.1980\n"
          ]
        }
      ],
      "source": [
        "history = cnn.train(train_ds, val_ds, epochs)"
      ]
    },
    {
      "cell_type": "code",
      "execution_count": null,
      "metadata": {},
      "outputs": [],
      "source": [
        "import os\n",
        "import numpy as np\n",
        "import matplotlib.pyplot as plt\n",
        "\n",
        "import tensorflow as tf\n",
        "from tensorflow.keras.applications.inception_v3 import InceptionV3\n",
        "from tensorflow.keras.applications.inception_resnet_v2 import InceptionResNetV2 as IRV2\n",
        "from tensorflow.keras.applications.resnet50 import ResNet50\n",
        "from tensorflow.keras.applications.xception import Xception\n",
        "\n",
        "\n",
        "from tensorflow.keras import layers\n",
        "from tensorflow.keras.layers import Dense, Input, InputLayer, Flatten, Conv2D, BatchNormalization, MaxPooling2D, Activation , GlobalAveragePooling2D\n",
        "from tensorflow.keras.models import Sequential,  Model\n",
        "\n",
        "import wandb\n",
        "\n",
        "\n",
        "class ObjectDetection():\n",
        "\n",
        "    def __init__(self, image_size, modelConfigDict, using_pretrained_model = False, base_model = \"IRV2\" ):\n",
        "        \n",
        "        self.no_hidden_cnn_layers= modelConfigDict[\"no_hidden_cnn_layers\"]\n",
        "        self.activation = modelConfigDict[\"activation\"]\n",
        "        self.batch_norm = modelConfigDict[\"batch_norm\"]\n",
        "        self.filter_dist = modelConfigDict[\"filter_dist\"]\n",
        "        self.filter_size = modelConfigDict[\"filter_size\"]\n",
        "        self.no_of_filters_base  = modelConfigDict[\"no_of_filters_base\"]\n",
        "        self.dropout_fraction = modelConfigDict[\"dropout_fraction\"]\n",
        "        self.pool_size = modelConfigDict[\"pool_size\"]\n",
        "        self.padding = modelConfigDict[\"padding\"]\n",
        "        self.dense_neurons = modelConfigDict[\"dense_neurons\"]\n",
        "        self.num_classes = modelConfigDict[\"num_classes\"]\n",
        "        self.optimizer = modelConfigDict[\"optimizer\"]\n",
        "        self.global_avg_pooling = modelConfigDict[\"global_avg_pooling\"]\n",
        "        self.batch_normalisation_location = modelConfigDict[\"batch_normalisation_location\"]\n",
        "        BASE_MODELS = {\n",
        "        \"IRV2\" : IRV2,\n",
        "        \"IV3\" : InceptionV3,\n",
        "        \"RN50\" : ResNet50,\n",
        "        \"XCPTN\" : Xception\n",
        "        }      \n",
        "        \n",
        "        if using_pretrained_model == True:\n",
        "            self.base_model = base_model\n",
        "\n",
        "            if self.base_model == \"RN50\":\n",
        "                self.IMG_HEIGHT = 224\n",
        "                self.IMG_WIDTH = 224\n",
        "\n",
        "            else:\n",
        "                self.IMG_HEIGHT = image_size[0]\n",
        "                self.IMG_WIDTH = image_size[1]        \n",
        "\n",
        "        self.IMG_HEIGHT = image_size[0]\n",
        "        self.IMG_WIDTH = image_size[1]        \n",
        "         \n",
        "        self.input_shape = (self.IMG_HEIGHT, self.IMG_WIDTH, 3)\n",
        "\n",
        "    def build_cnnmodel_dense(self):\n",
        "\n",
        "        with tf.device('/device:GPU:0'):\n",
        "            tf.keras.backend.clear_session()\n",
        "            model = Sequential()\n",
        "            \n",
        "            #Input Layer\n",
        "            model.add(Conv2D(self.no_of_filters_base, self.filter_size ,kernel_initializer = \"he_uniform\",padding = self.padding,input_shape = (self.IMG_HEIGHT, self.IMG_WIDTH, 3)))\n",
        "            if self.batch_normalisation_location == \"Before\" and self.batch_norm: model.add(BatchNormalization())\n",
        "            model.add(Activation(self.activation))\n",
        "            \n",
        "            #Performing Batch_normalisation\n",
        "            if self.batch_normalisation_location == \"After\" and self.batch_norm: model.add(BatchNormalization())\n",
        "            \n",
        "            #Max pooling\n",
        "            model.add(MaxPooling2D(pool_size=self.pool_size))  \n",
        "            for i in range(self.no_hidden_cnn_layers-1):\n",
        "            \n",
        "                ## Standard filter \n",
        "                if self.filter_dist == \"standard\":\n",
        "                    model.add(Conv2D(self.no_of_filters_base, self.filter_size,kernel_initializer = \"he_uniform\",padding = self.padding))\n",
        "            \n",
        "                ## Double filter \n",
        "                elif self.filter_dist == \"double\":\n",
        "                    model.add(Conv2D(2**(i+1)*self.no_of_filters_base, self.filter_size,kernel_initializer = \"he_uniform\",padding = self.padding))\n",
        "            \n",
        "                ## Half the filter size in each of the convolutional layers\n",
        "                elif self.filter_dist == \"half\":\n",
        "                    model.add(Conv2D(int(self.no_of_filters_base/2**(i+1)),self.filter_size, kernel_initializer = \"he_uniform\"))\n",
        "            \n",
        "                if self.batch_normalisation_location == \"Before\" and self.batch_norm: model.add(BatchNormalization())\n",
        "                model.add(Activation(self.activation))\n",
        "            \n",
        "                if self.batch_normalisation_location == \"After\" and self.batch_norm: model.add(BatchNormalization())\n",
        "                \n",
        "                model.add(MaxPooling2D(pool_size=self.pool_size))\n",
        "            \n",
        "            #Densely connected layers\n",
        "            if self.global_avg_pooling == True:\n",
        "                model.add(GlobalAveragePooling2D())\n",
        "            else:\n",
        "                model.add(Flatten())\n",
        "            model.add(Dense(self.dense_neurons, activation = 'sigmoid'))\n",
        "            if self.dropout_fraction != None:\n",
        "                model.add(tf.keras.layers.Dropout(self.dropout_fraction))\n",
        "            model.add(Dense(self.num_classes, activation = 'softmax'))\n",
        "          \n",
        "            return model \n",
        "\n",
        "    def build_cnnmodel_conv(self):\n",
        "        with tf.device('/device:GPU:0'):\n",
        "            tf.keras.backend.clear_session()\n",
        "            model = Sequential()\n",
        "            \n",
        "            #First CNN layer connecting to input layer\n",
        "            model.add(Conv2D(self.no_of_filters_base, self.filter_size, padding = self.padding,kernel_initializer = \"he_uniform\", input_shape = (self.IMG_HEIGHT, self.IMG_WIDTH, 3)))\n",
        "            if self.batch_normalisation_location == \"Before\" and self.batch_norm: model.add(BatchNormalization())\n",
        "            model.add(Activation(self.activation))\n",
        "            \n",
        "            #batch_normalisation\n",
        "            if self.batch_normalisation_location == \"After\" and self.batch_norm: model.add(BatchNormalization())\n",
        "            #max pooling\n",
        "            model.add(MaxPooling2D(pool_size=self.pool_size))  \n",
        "            if self.dropout_fraction != None:\n",
        "                model.add(tf.keras.layers.Dropout(self.dropout_fraction))\n",
        "            for i in range(self.no_hidden_cnn_layers-1):\n",
        "                #i+2th Convolutional Layer\n",
        "            \n",
        "                ## Standard filter distribution - same number of filters in all Convolutional layers\n",
        "                if self.filter_dist == \"standard\":\n",
        "                    model.add(Conv2D(self.no_of_filters_base, self.filter_size,kernel_initializer = \"he_uniform\",padding = self.padding))\n",
        "            \n",
        "                ## Double filter distribution - double number of filters in each Convolutional layers\n",
        "                elif self.filter_dist == \"double\":\n",
        "                    model.add(Conv2D(2**(i+1)*self.no_of_filters_base, self.filter_size,kernel_initializer = \"he_uniform\", padding = self.padding))\n",
        "            \n",
        "                ## Halve the filter size in each successive convolutional layers\n",
        "                elif self.filter_dist == \"half\":\n",
        "                    model.add(Conv2D(int(self.no_of_filters_base/2**(i+1)), self.filter_size,kernel_initializer = \"he_uniform\", padding = self.padding))\n",
        "            \n",
        "                if self.batch_normalisation_location == \"Before\" and self.batch_norm: model.add(BatchNormalization())\n",
        "                model.add(Activation(self.activation))\n",
        "            \n",
        "                if self.batch_normalisation_location == \"After\" and self.batch_norm: model.add(BatchNormalization())\n",
        "            \n",
        "                model.add(MaxPooling2D(pool_size=self.pool_size))\n",
        "                if self.dropout_fraction != None:\n",
        "                    model.add(tf.keras.layers.Dropout(self.dropout_fraction))\n",
        "            \n",
        "            #Final densely connected layers\n",
        "            if self.global_avg_pooling == True:\n",
        "                model.add(GlobalAveragePooling2D())\n",
        "            else:\n",
        "                model.add(Flatten())\n",
        "\n",
        "            model.add(Dense(self.dense_neurons, activation = 'sigmoid'))\n",
        "            model.add(Dense(self.num_classes, activation = 'softmax'))\n",
        "\n",
        "            return model      \n",
        "        \n",
        "    def build_cnnmodel_all(self):\n",
        "\n",
        "        with tf.device('/device:GPU:0'):    \n",
        "            tf.keras.backend.clear_session()\n",
        "            model = Sequential()\n",
        "            \n",
        "            #First CNN layer\n",
        "            model.add(Conv2D(self.no_of_filters_base, self.filter_size, padding = self.padding,kernel_initializer = \"he_uniform\", input_shape = (self.IMG_HEIGHT, self.IMG_WIDTH, 3)))\n",
        "            model.add(Activation(self.activation))\n",
        "            \n",
        "            #Batch_normalisation\n",
        "            if self.batch_normalisation_location == \"After\" and self.batch_norm: model.add(BatchNormalization())\n",
        "            \n",
        "            #Max pooling\n",
        "            model.add(MaxPooling2D(pool_size=self.pool_size))  \n",
        "            if self.dropout_fraction != None:\n",
        "                model.add(tf.keras.layers.Dropout(self.dropout_fraction))\n",
        "\n",
        "            for i in range(self.no_hidden_cnn_layers-1):\n",
        "            \n",
        "                ## Standard filter distribution\n",
        "                if self.filter_dist == \"standard\":\n",
        "                    model.add(Conv2D(self.no_of_filters_base, self.filter_size,kernel_initializer = \"he_uniform\", padding = self.padding))\n",
        "            \n",
        "                ## Double filter distribution\n",
        "                elif self.filter_dist == \"double\":\n",
        "                    model.add(Conv2D(2**(i+1)*self.no_of_filters_base, self.filter_size,kernel_initializer = \"he_uniform\",padding = self.padding))\n",
        "            \n",
        "                ## Halve the filter size in each successive convolutional layers\n",
        "                elif self.filter_dist == \"half\":\n",
        "                    model.add(Conv2D(int(self.no_of_filters_base/2**(i+1)), self.filter_size,kernel_initializer = \"he_uniform\", padding = self.padding))\n",
        "            \n",
        "                model.add(Activation(self.activation))\n",
        "            \n",
        "                if self.batch_normalisation_location == \"After\" and self.batch_norm: model.add(BatchNormalization())\n",
        "            \n",
        "                model.add(MaxPooling2D(pool_size=self.pool_size))\n",
        "                if self.dropout_fraction != None:\n",
        "                    model.add(tf.keras.layers.Dropout(self.dropout_fraction))\n",
        "            \n",
        "            #Densely connected layers\n",
        "            if self.global_avg_pooling == True:\n",
        "                model.add(GlobalAveragePooling2D())\n",
        "            else:\n",
        "                model.add(Flatten())\n",
        "\n",
        "            model.add(Dense(self.dense_neurons, activation = 'sigmoid'))\n",
        "            if self.dropout_fraction != None:\n",
        "                model.add(tf.keras.layers.Dropout(self.dropout_fraction))\n",
        "            model.add(Dense(self.num_classes, activation = 'softmax'))\n",
        "            \n",
        "            return model      \n",
        "      \n",
        "    \n",
        "                 \n",
        "        \n",
        "    def load_pretrained_model(self):\n",
        "        \n",
        "        base_model = BASE_MODELS[self.base_model_name]\n",
        "        base = base_model(weights='imagenet', include_top=False)\n",
        "        x = base.output\n",
        "        x = GlobalAveragePooling2D()(x)\n",
        "        x = Dense(self.dense_neurons, activation='relu')(x)\n",
        "        guess = Dense(self.num_classes, activation='softmax')(x)\n",
        "        model = Model(inputs=base.input, outputs=guess)\n",
        "\n",
        "        # freeze the base layers\n",
        "        for l in base.layers:\n",
        "            l.trainable = False\n",
        "\n",
        "        return model\n",
        " "
      ]
    },
    {
      "cell_type": "code",
      "execution_count": null,
      "metadata": {},
      "outputs": [],
      "source": []
    },
    {
      "cell_type": "code",
      "execution_count": null,
      "metadata": {},
      "outputs": [],
      "source": []
    },
    {
      "cell_type": "code",
      "execution_count": null,
      "metadata": {},
      "outputs": [],
      "source": []
    },
    {
      "cell_type": "code",
      "execution_count": null,
      "metadata": {},
      "outputs": [],
      "source": []
    },
    {
      "cell_type": "code",
      "execution_count": 18,
      "metadata": {
        "colab": {
          "base_uri": "https://localhost:8080/",
          "height": 498
        },
        "id": "zR-4gwenOr_w",
        "outputId": "4860f978-414b-43ea-d5b0-6476917cfdc5"
      },
      "outputs": [
        {
          "data": {
            "image/png": "[encoded data removed]",
            "text/plain": [
              "<Figure size 576x576 with 2 Axes>"
            ]
          },
          "metadata": {
            "needs_background": "light",
            "tags": []
          },
          "output_type": "display_data"
        }
      ],
      "source": [
        "#------------------------------------visualising the results -----------------------------------------------\n",
        "visualise_results(history, epochs)"
      ]
    },
    {
      "cell_type": "code",
      "execution_count": null,
      "metadata": {
        "id": "MyKigKGr8Q8n"
      },
      "outputs": [],
      "source": []
    }
  ],
  "metadata": {
    "colab": {
      "collapsed_sections": [],
      "name": "Problem_1.ipynb",
      "provenance": []
    },
    "kernelspec": {
      "display_name": "Python 3",
      "language": "python",
      "name": "python3"
    },
    "language_info": {
      "name": "python",
      "version": "3.10.8 (tags/v3.10.8:aaaf517, Oct 11 2022, 16:50:30) [MSC v.1933 64 bit (AMD64)]"
    },
    "vscode": {
      "interpreter": {
        "hash": "e7fdc5f3cce225da97ecbb62baa9d502a10bee8c564318ad754c1ff5e9f74492"
      }
    }
  },
  "nbformat": 4,
  "nbformat_minor": 0
}
